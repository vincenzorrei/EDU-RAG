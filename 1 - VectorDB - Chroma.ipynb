{
 "cells": [
  {
   "cell_type": "markdown",
   "id": "31eed9cb",
   "metadata": {},
   "source": [
    "# Rag in breve"
   ]
  },
  {
   "cell_type": "code",
   "execution_count": 2,
   "id": "ad21f57e",
   "metadata": {},
   "outputs": [
    {
     "data": {
      "text/plain": [
       "True"
      ]
     },
     "execution_count": 2,
     "metadata": {},
     "output_type": "execute_result"
    }
   ],
   "source": [
    "from langchain_openai import ChatOpenAI\n",
    "from langchain_core.output_parsers import StrOutputParser\n",
    "from langchain_core.prompts import ChatPromptTemplate\n",
    "import os\n",
    "from dotenv import load_dotenv\n",
    "\n",
    "load_dotenv()\n",
    "\n"
   ]
  },
  {
   "cell_type": "code",
   "execution_count": 3,
   "id": "fe238f20",
   "metadata": {},
   "outputs": [],
   "source": [
    "llm = ChatOpenAI(model=\"gpt-4o-mini\",\n",
    "                      api_key=os.getenv(\"openai_api_key\"),\n",
    "                      temperature=0.9)"
   ]
  },
  {
   "cell_type": "code",
   "execution_count": 4,
   "id": "2565ee73",
   "metadata": {},
   "outputs": [],
   "source": [
    "gossip_prompt = ChatPromptTemplate.from_template(\n",
    "    \"\"\"Sei un assistente AI utile e socievole a cui piace fare gossip.\n",
    "\n",
    "    Contesto: {contesto}\n",
    "\n",
    "    Domanda: {domanda}\n",
    "\n",
    "    Dai sempre un tuo parere. Sii sempre critico e scettico.\"\"\"\n",
    ")\n",
    "\n",
    "gossip_chain = gossip_prompt | llm | StrOutputParser()\n"
   ]
  },
  {
   "cell_type": "code",
   "execution_count": 5,
   "id": "4a072ed2",
   "metadata": {},
   "outputs": [
    {
     "data": {
      "text/plain": [
       "'Ah, GPT-5! Che tema interessante da gossip! Certo, si parla molto delle sue potenzialità e di come potrebbe superare GPT-4 in vari aspetti. Ma francamente, c\\'è sempre un po\\' di fumoso entusiasmo attorno a queste nuove tecnologie, non credi? \\n\\nDa un lato, ci sono promesse di miglioramenti incredibili, come una comprensione più profonda del contesto e risposte ancora più naturali. Dall\\'altro, ci si chiede: ma quanto effettivamente cambierà? Spesso le aspettative sono alle stelle e poi ci ritroviamo con qualche aggiornamento che non è così rivoluzionario come speravamo. \\n\\nE poi, c’è sempre da considerare il fatto che più ci si avvicina a modelli \"intelligenti\", più si porta con sé la questione dell’etica e dell\\'affidabilità. Riuscirà veramente a essere all’altezza delle aspettative o sarà solo un gran clamore senza sostanza? \\n\\nInsomma, come sempre, meglio rimanere scettici e vedere cosa offrirà realmente! Non vorremmo rimanere delusi, giusto? E tu cosa ne pensi?'"
      ]
     },
     "execution_count": 5,
     "metadata": {},
     "output_type": "execute_result"
    }
   ],
   "source": [
    "contesto = \"\"\n",
    "domanda = \"Cosa ne pensi di gpt-5?\"\n",
    "\n",
    "gossip_chain.invoke({\"contesto\": contesto,\n",
    "                  \"domanda\": domanda})"
   ]
  },
  {
   "cell_type": "code",
   "execution_count": 6,
   "id": "714f0bb2",
   "metadata": {},
   "outputs": [],
   "source": [
    "# fonte: https://www.ilsole24ore.com/art/openai-lancia-gpt-5-piu-veloce-piu-intelligente-e-piu-umano-ecco-cosa-c-e-sapere--embargo-7-8-1900-AH9AHy4B\n",
    "\n",
    "contesto = \"\"\"A 32 mesi dal debutto di ChatGPT, viene alla luce GPT-5, il nuovo modello di OpenAI definito dal suo fondatore Sam Altman «un passo importante verso l’AGI (Intelligenza Artificiale Generale)», ovvero l’intelligenza artificiale generale. «Tornare a GPT-4 dopo aver provato GPT-5 sarà frustrante» ha dichiarato Altman nel corso di un briefing con i giornalisti. «La differenza è paragonabile a tornare a un vecchio telefono con schermo pixelato dopo l’iPhone. GPT-3 sembrava un liceale – ha detto – GPT-4 uno studente universitario. GPT-5 è come avere a che fare con un esperto con un PhD.»\n",
    "Gpt-5 subito disponibile per tutti.\n",
    "Come è accaduto per l’ultimo modello Gpt4o anche GPT-5 verrà reso disponibile gratuitamente a tutti gli utenti di ChatGPT. Tre le versioni disponibili via API: GPT-5, GPT-5 Mini, GPT-5 Nano, per bilanciare prestazioni e costi. Esistono anche per versioni Pro e versione Plus: la differenza principale riguarda i limiti di utilizzo. Quella Pro (200 dollari) offre GPT-5 illimitato; accesso a GPT-5 Pr. Quella Plus con l’abbonamento a 21 euro al mese offre limiti di utilizzo molto più elevati rispetto alla versione Free che ricordiamo offre accesso a GPT-5 & GPT-5 mini. E’ la prima volta che gli utenti Free hanno accesso a un modello di ragionamento.\n",
    "Per gli utenti Plus sarà il modello predefinito, eliminando la complessità del selettore di modelli. Inoltre, avranno anche una quantità d’uso molto maggiore di GPT-5. Quando superano il limite, passeranno a GPT-5 Mini, che è comunque molto buono.\n",
    "Cosa cambia rispetto al 4o? E’ davvero una rivoluzione?\n",
    "Concettualmente, GPT-5 integra molti componenti tecnologici fra cui la linea o (i cosiddetti reasoning model, e funzionalità degli agenti intelligenti. Si candida quindi a essere una sorta di «unificatore» della proposta di OpenAI. Il team di OpenAI ha sottolineato che questo è il modello più veloce, più preciso (meno allucinazioni) e più intelligente (in matematica, scienze, programmazione), e più umano. Ma è l’aspetto della programmazione quello su cui sembrano volere puntare di più. «GPT-5 - hanno ripetuto - è il modello migliore per il coding mai creato da OpenAI». «Una delle cose più incredibili è che può creare istantaneamente un intero software da zero. Credo – ha spiegato Altman – che il concetto di “software on demand” sarà un tratto distintivo dell’era GPT-5».\n",
    "Siamo nell’era del Vibe coding\n",
    "Nel corso della presentazione è stato mostrato un esempio di Vibe coding, che significa poter creare qualsiasi app o software semplicemente chiedendolo al modello, senza dover saper programmare. Nello specifico, hanno creato una web app per imparare il francese. «Costruire un sito del genere richiederebbe ore di lavoro a un programmatore umano. GPT-5 lo fa in pochi secondi». In pratica, GPT-5 ha generato 600 righe di codice. Inoltre, hanno mostrato che ogni volta che si dà lo stesso prompt a GPT-5, si possono ottenere risultati diversi, tutti funzionanti.\n",
    "\"\"\""
   ]
  },
  {
   "cell_type": "code",
   "execution_count": 7,
   "id": "a4480711",
   "metadata": {},
   "outputs": [
    {
     "data": {
      "text/plain": [
       "\"GPT-5 sembra davvero un enorme passo avanti rispetto ai suoi predecessori, soprattutto per quanto riguarda la programmazione e il “Vibe coding”. La possibilità di creare software su richiesta senza necessitare di abili programmatori è affascinante e potrebbe rivoluzionare il modo in cui interagiamo con la tecnologia. Tuttavia, ci sono alcuni aspetti su cui dovremmo riflettere con un po' di scetticismo.\\n\\nInnanzitutto, è facile entusiasmarci per le promesse di prestazioni superiori e di una maggiore umanità nel modo in cui GPT-5 interagisce con noi. Ma ci chiediamo: quanto di tutto ciò è realista? Le affermazioni di Altman, sebbene entusiastiche, potrebbero creare aspettative irrealistiche. Dobbiamo considerare che, anche se il modello è stato ottimizzato, rimane pur sempre un algoritmo e quindi potrebbe presentare limitazioni o errori di giudizio. Le “allucinazioni”, come amano chiamarle, potrebbero non scomparire completamente.\\n\\nInoltre, la questione dell'accesso gratuito per tutti è un'ottima notizia, ma ci sono anche preoccupazioni relative alla sostenibilità del modello. OpenAI sta investendo enormi risorse nello sviluppo di questi modelli avanzati; come potrebbero mantenere il servizio gratuito nel lungo termine? E, come sempre accade con le tecnologie emergenti, c'è un timore legato all'utilizzo irresponsabile e a come questo modello potrebbe influenzare il mercato del lavoro, in particolare per i programmatori.\\n\\nInfine, c'è la questione dell’ethos: stiamo davvero promuovendo la creatività e l’innovazione con strumenti del genere? Oppure stiamo semplicemente creando una dipendenza dalla tecnologia che potrebbe soffocare la nostra capacità di pensare in modo critico e di risolvere problemi in modo autonomo? Come sempre, l’innovazione è emozionante, ma bisogna fare attenzione a come la utilizziamo e alle implicazioni etiche che comporta. In sintesi, GPT-5 è senza dubbio un progresso, ma ci sono molte domande da porsi e monitorare nel suo sviluppo.\""
      ]
     },
     "execution_count": 7,
     "metadata": {},
     "output_type": "execute_result"
    }
   ],
   "source": [
    "gossip_chain.invoke({\"contesto\": contesto,\n",
    "                  \"domanda\": domanda})"
   ]
  },
  {
   "cell_type": "markdown",
   "id": "22331670d4fc2f46",
   "metadata": {
    "collapsed": false,
    "jupyter": {
     "outputs_hidden": false
    }
   },
   "source": [
    "# Chroma\n",
    "\n",
    "Chroma è un progetto Open Source pensato per gestire la rappresentazione dei dati nell’ambito dell’Intelligenza Artificiale, in particolare attraverso i vettori di embedding.\n",
    "\n",
    "Consente di creare, archiviare e ricercare rappresentazioni vettoriali di testi e immagini.\n",
    "\n",
    "Gli embedding possono essere generati sia con i modelli forniti dai principali provider, sia con modelli locali o funzioni personalizzate per trasformare le informazioni in vettori numerici.\n",
    "\n",
    "Il modello predefinito è all-MiniLM-L6-v2\n",
    " di Sentence Transformers (SBERT), un modello locale che viene scaricato automaticamente al primo utilizzo."
   ]
  },
  {
   "cell_type": "code",
   "execution_count": 8,
   "id": "675a4bb56b386119",
   "metadata": {
    "ExecuteTime": {
     "end_time": "2025-07-29T09:45:19.543181Z",
     "start_time": "2025-07-29T09:45:18.438404Z"
    },
    "collapsed": false,
    "jupyter": {
     "outputs_hidden": false
    }
   },
   "outputs": [],
   "source": [
    "import chromadb  # pip install chromadb\n",
    "from chromadb.config import Settings\n",
    "\n",
    "# Creiamo un'istanza del client Chroma\n",
    "chroma_client = chromadb.Client(\n",
    "    Settings(\n",
    "        # Directory in cui verranno salvati i dati del database in modo persistente.\n",
    "        # Se non specificato, i dati restano solo in memoria (volatile).\n",
    "        persist_directory=\"/db/\",\n",
    "\n",
    "        # Impostazione che consente di resettare/modificare il database:\n",
    "        # - True  → permette di aggiungere, cancellare o modificare collezioni\n",
    "        # - False → accesso in sola lettura (il database non può essere alterato)\n",
    "        allow_reset=True,\n",
    "    )\n",
    ")\n"
   ]
  },
  {
   "cell_type": "code",
   "execution_count": 9,
   "id": "6a0ee579-6f33-4da7-a76c-242d1b011e2d",
   "metadata": {
    "ExecuteTime": {
     "end_time": "2025-07-29T09:45:19.567526Z",
     "start_time": "2025-07-29T09:45:19.553759Z"
    },
    "collapsed": false,
    "jupyter": {
     "outputs_hidden": false
    }
   },
   "outputs": [],
   "source": [
    "collection = chroma_client.create_collection(name=\"first_collection\")"
   ]
  },
  {
   "cell_type": "code",
   "execution_count": 10,
   "id": "1050333e29b14c8c",
   "metadata": {
    "ExecuteTime": {
     "end_time": "2025-07-29T09:45:19.824047Z",
     "start_time": "2025-07-29T09:45:19.572598Z"
    },
    "collapsed": false,
    "jupyter": {
     "outputs_hidden": false
    }
   },
   "outputs": [],
   "source": [
    "doc_1_anagrafica = \"Mi chiamo Mario Rossi, sono nato il 12 maggio 1985 a Bologna e attualmente vivo a Milano, in Via Verdi 14. Il mio numero di telefono è +39 333 1234567 e la mia email è mario.rossi@email.it.\"\n",
    "doc_1_studi = \"Mario ha studiato Ingegneria delle Telecomunicazioni, dove si è laureato con lode. Durante il suo percorso accademico, ha partecipato a diversi progetti di ricerca e ha svolto tirocini presso importanti aziende del settore.\"\n",
    "doc_1_hobby = \"Nel tempo libero Mario coltiva una grande passione per il mare e le attività subacquee. Ama praticare diving e snorkeling, esperienze che gli permettono di unire il piacere dell’esplorazione alla ricerca di equilibrio e concentrazione.\"\n",
    "\n",
    "collection.add(\n",
    "    documents = [doc_1_anagrafica, doc_1_studi, doc_1_hobby],\n",
    "    metadatas = [{\"tipo_doc\": \"anagrafica\"}, {\"tipo_doc\": \"studi\"}, {\"tipo_doc\": \"hobby\"}],\n",
    "    ids = [\"id1\", \"id2\", \"id3\"] # Facoltativo\n",
    ")"
   ]
  },
  {
   "cell_type": "code",
   "execution_count": 11,
   "id": "77c88ec80cfb6ae2",
   "metadata": {
    "ExecuteTime": {
     "end_time": "2025-07-29T09:45:20.166527Z",
     "start_time": "2025-07-29T09:45:20.161425Z"
    },
    "collapsed": false,
    "jupyter": {
     "outputs_hidden": false
    }
   },
   "outputs": [
    {
     "data": {
      "text/plain": [
       "3"
      ]
     },
     "execution_count": 11,
     "metadata": {},
     "output_type": "execute_result"
    }
   ],
   "source": [
    "collection.count()"
   ]
  },
  {
   "cell_type": "code",
   "execution_count": 12,
   "id": "195c8ec33decca16",
   "metadata": {
    "ExecuteTime": {
     "end_time": "2025-07-29T09:45:20.180182Z",
     "start_time": "2025-07-29T09:45:20.175645Z"
    },
    "collapsed": false,
    "jupyter": {
     "outputs_hidden": false
    }
   },
   "outputs": [
    {
     "data": {
      "text/plain": [
       "{'ids': ['id1', 'id2', 'id3'],\n",
       " 'embeddings': None,\n",
       " 'documents': ['Mi chiamo Mario Rossi, sono nato il 12 maggio 1985 a Bologna e attualmente vivo a Milano, in Via Verdi 14. Il mio numero di telefono è +39 333 1234567 e la mia email è mario.rossi@email.it.',\n",
       "  'Mario ha studiato Ingegneria delle Telecomunicazioni, dove si è laureato con lode. Durante il suo percorso accademico, ha partecipato a diversi progetti di ricerca e ha svolto tirocini presso importanti aziende del settore.',\n",
       "  'Nel tempo libero Mario coltiva una grande passione per il mare e le attività subacquee. Ama praticare diving e snorkeling, esperienze che gli permettono di unire il piacere dell’esplorazione alla ricerca di equilibrio e concentrazione.'],\n",
       " 'uris': None,\n",
       " 'included': ['metadatas', 'documents'],\n",
       " 'data': None,\n",
       " 'metadatas': [{'tipo_doc': 'anagrafica'},\n",
       "  {'tipo_doc': 'studi'},\n",
       "  {'tipo_doc': 'hobby'}]}"
      ]
     },
     "execution_count": 12,
     "metadata": {},
     "output_type": "execute_result"
    }
   ],
   "source": [
    "collection.get()"
   ]
  },
  {
   "cell_type": "code",
   "execution_count": 13,
   "id": "4b0bfad386b71453",
   "metadata": {
    "ExecuteTime": {
     "end_time": "2025-07-29T09:45:20.306285Z",
     "start_time": "2025-07-29T09:45:20.301683Z"
    },
    "collapsed": false,
    "jupyter": {
     "outputs_hidden": false
    }
   },
   "outputs": [
    {
     "data": {
      "text/plain": [
       "{'ids': ['id2'],\n",
       " 'embeddings': None,\n",
       " 'documents': ['Mario ha studiato Ingegneria delle Telecomunicazioni, dove si è laureato con lode. Durante il suo percorso accademico, ha partecipato a diversi progetti di ricerca e ha svolto tirocini presso importanti aziende del settore.'],\n",
       " 'uris': None,\n",
       " 'included': ['metadatas', 'documents'],\n",
       " 'data': None,\n",
       " 'metadatas': [{'tipo_doc': 'studi'}]}"
      ]
     },
     "execution_count": 13,
     "metadata": {},
     "output_type": "execute_result"
    }
   ],
   "source": [
    "collection.get(\"id2\")"
   ]
  },
  {
   "cell_type": "code",
   "execution_count": 14,
   "id": "bcdc0098beb39596",
   "metadata": {
    "ExecuteTime": {
     "end_time": "2025-07-29T09:45:20.373121Z",
     "start_time": "2025-07-29T09:45:20.369561Z"
    },
    "collapsed": false,
    "jupyter": {
     "outputs_hidden": false
    }
   },
   "outputs": [
    {
     "data": {
      "text/plain": [
       "[Collection(name=first_collection)]"
      ]
     },
     "execution_count": 14,
     "metadata": {},
     "output_type": "execute_result"
    }
   ],
   "source": [
    "chroma_client.list_collections()"
   ]
  },
  {
   "cell_type": "code",
   "execution_count": 15,
   "id": "be5505adde56c8f",
   "metadata": {
    "ExecuteTime": {
     "end_time": "2025-07-29T09:45:20.420122Z",
     "start_time": "2025-07-29T09:45:20.416568Z"
    },
    "collapsed": false,
    "jupyter": {
     "outputs_hidden": false
    }
   },
   "outputs": [
    {
     "data": {
      "text/plain": [
       "[Collection(name=mario_rossi)]"
      ]
     },
     "execution_count": 15,
     "metadata": {},
     "output_type": "execute_result"
    }
   ],
   "source": [
    "collection.modify(name=\"mario_rossi\")\n",
    "\n",
    "chroma_client.list_collections()"
   ]
  },
  {
   "cell_type": "code",
   "execution_count": null,
   "id": "f5383517159f9275",
   "metadata": {
    "ExecuteTime": {
     "end_time": "2025-07-29T09:45:20.468825Z",
     "start_time": "2025-07-29T09:45:20.463863Z"
    },
    "collapsed": false,
    "jupyter": {
     "outputs_hidden": false
    }
   },
   "outputs": [
    {
     "data": {
      "text/plain": [
       "Collection(name=mario_rossi)"
      ]
     },
     "execution_count": 16,
     "metadata": {},
     "output_type": "execute_result"
    }
   ],
   "source": [
    "chroma_client.get_collection(name=\"mario_rossi\")"
   ]
  },
  {
   "cell_type": "code",
   "execution_count": 17,
   "id": "2a8d99bf98b2068f",
   "metadata": {
    "ExecuteTime": {
     "end_time": "2025-07-29T09:45:20.517073Z",
     "start_time": "2025-07-29T09:45:20.511995Z"
    },
    "collapsed": false,
    "jupyter": {
     "outputs_hidden": false
    }
   },
   "outputs": [
    {
     "data": {
      "text/plain": [
       "[]"
      ]
     },
     "execution_count": 17,
     "metadata": {},
     "output_type": "execute_result"
    }
   ],
   "source": [
    "chroma_client.delete_collection(name=\"mario_rossi\")\n",
    "\n",
    "chroma_client.list_collections()"
   ]
  },
  {
   "cell_type": "code",
   "execution_count": 18,
   "id": "62d5117814c88da5",
   "metadata": {
    "ExecuteTime": {
     "end_time": "2025-07-29T09:45:20.548290Z",
     "start_time": "2025-07-29T09:45:20.539146Z"
    },
    "collapsed": false,
    "jupyter": {
     "outputs_hidden": false
    }
   },
   "outputs": [
    {
     "data": {
      "text/plain": [
       "[]"
      ]
     },
     "execution_count": 18,
     "metadata": {},
     "output_type": "execute_result"
    }
   ],
   "source": [
    "# Il metodo reset() elimina tutte le collezioni e i dati presenti nel database Chroma.\n",
    "# Usalo con cautela: questa operazione è irreversibile e cancella tutto il contenuto.\n",
    "chroma_client.reset()\n",
    "\n",
    "chroma_client.list_collections()"
   ]
  },
  {
   "cell_type": "markdown",
   "id": "5010bac5-3262-4282-9417-88389c7bfc62",
   "metadata": {},
   "source": [
    "## Metriche di Distanza negli Embeddings\n",
    "\n",
    "La scelta della metrica influisce su come misuriamo la somiglianza tra testi o concetti.  \n",
    "\n",
    "### • Squared L2 (Distanza Euclidea al Quadrato)  \n",
    "Misura la distanza “fisica” tra vettori, considerando direzione e lunghezza. (usata per immaigini Raw e doc strutturati)  \n",
    "👉 **Quando usarla**: per clustering o raggruppamenti compatti, dove la scala dei vettori ha significato.  \n",
    "\n",
    "### • Inner Product (Prodotto Interno)  \n",
    "Valuta l’affinità in base a direzione **e** lunghezza. Non è una distanza, ma una misura di similarità.  \n",
    "👉 **Quando usarla**: in ranking e retrieval, specie con embeddings normalizzati o se vuoi premiare vettori più “intensi”.  \n",
    "\n",
    "### • Cosine Similarity (Somiglianza Coseno)  \n",
    "Confronta solo la direzione tra vettori, ignorando la magnitudine. Risultato tra -1 (opposti) e 1 (identici).  \n",
    "👉 **Quando usarla**: per analisi semantica pura (NLP), dove conta l’allineamento di significato, non la lunghezza.  \n",
    "\n",
    "---\n",
    "\n",
    "### Sintesi\n",
    "- **Squared L2** → distanza assoluta (clustering).  \n",
    "- **Inner Product** → ranking e retrieval (rilevanza complessiva).  \n",
    "- **Cosine Similarity** → similarità semantica pura (default NLP).  \n"
   ]
  },
  {
   "cell_type": "code",
   "execution_count": 19,
   "id": "432ee93b749461e0",
   "metadata": {
    "ExecuteTime": {
     "end_time": "2025-07-29T09:45:20.608243Z",
     "start_time": "2025-07-29T09:45:20.569960Z"
    },
    "collapsed": false,
    "jupyter": {
     "outputs_hidden": false
    }
   },
   "outputs": [],
   "source": [
    "# Impostiamo la metrica di distanza su \"l2\" (Squared L2/Euclidea al quadrato)\n",
    "# L'opzione \"hnsw:space\" specifica la metrica per l'algoritmo HNSW (ricerca approssimata dei vicini più prossimi)\n",
    "collection = chroma_client.create_collection(\n",
    "    name=\"data_collection\",\n",
    "    metadata={\"hnsw:space\": \"l2\"}  # default: distanza euclidea\n",
    "    # HNSW: consente ricerche efficienti di similarità tra vettori in spazi ad alta dimensione\n",
    ")\n"
   ]
  },
  {
   "cell_type": "code",
   "execution_count": 20,
   "id": "4cdfdcc3",
   "metadata": {},
   "outputs": [],
   "source": [
    "doc_1_anagrafica = \"\"\"\n",
    "                Mi chiamo Mario Rossi, sono nato il 12 maggio 1985 a Bologna e attualmente vivo a Milano, in Via Verdi 14.\n",
    "                Sono di nazionalità italiana e sono laureato in Ingegneria delle Telecomunicazioni.\n",
    "                Il mio numero di telefono è +39 333 1234567 e la mia email è mario.rossi@email.it.\n",
    "                Il mio documento d’identità è la carta d’identità numero CA1234567, rilasciata dal Comune di Milano il 5 gennaio 2020,\n",
    "                con scadenza al 5 gennaio 2030.\n",
    "            \"\"\"\n",
    "\n",
    "doc_1_studi = \"\"\"\n",
    "                Ingegnere informatico con oltre 10 anni di esperienza nello sviluppo software e nella gestione di infrastrutture tecnologiche.\n",
    "                Competenze tecniche\n",
    "                Linguaggi: Python, Java, C++\n",
    "                Database: MySQL, PostgreSQL\n",
    "                Cloud: AWS, Azure\n",
    "                Reti e protocolli: TCP/IP, VoIP, 5G\n",
    "                Metodologie: Agile, Scrum\n",
    "            \"\"\"\n",
    "\n",
    "doc_1_hobby = \"\"\"\n",
    "                Mario Rossi nel tempo libero ama praticare le attività subacquee quando va a trovare la madre in Sicilia.\n",
    "                Due su tutte: diving e snorkeling. Queste esperienze gli permettono di unire il piacere\n",
    "                dell’esplorazione delle coste soleggiate del bel paese alla ricerca di equilibrio e concentrazione.\n",
    "            \"\"\""
   ]
  },
  {
   "cell_type": "code",
   "execution_count": 21,
   "id": "69043bb5",
   "metadata": {},
   "outputs": [],
   "source": [
    "collection.add(\n",
    "    documents = [doc_1_anagrafica, doc_1_studi, doc_1_hobby],\n",
    "    metadatas = [{\"tipo_doc\": \"anagrafica\"},\n",
    "                 {\"tipo_doc\": \"studi\"},\n",
    "                 {\"tipo_doc\": \"hobby\"}],\n",
    "    ids = [\"id1\", \"id2\", \"id3\"]\n",
    ")"
   ]
  },
  {
   "cell_type": "code",
   "execution_count": 22,
   "id": "ad0529275b3a5d20",
   "metadata": {
    "ExecuteTime": {
     "end_time": "2025-07-29T09:45:20.638721Z",
     "start_time": "2025-07-29T09:45:20.618980Z"
    },
    "collapsed": false,
    "jupyter": {
     "outputs_hidden": false
    }
   },
   "outputs": [
    {
     "data": {
      "text/plain": [
       "{'ids': [['id1', 'id3', 'id2']],\n",
       " 'embeddings': None,\n",
       " 'documents': [['\\n                Mi chiamo Mario Rossi, sono nato il 12 maggio 1985 a Bologna e attualmente vivo a Milano, in Via Verdi 14.\\n                Sono di nazionalità italiana e sono laureato in Ingegneria delle Telecomunicazioni.\\n                Il mio numero di telefono è +39 333 1234567 e la mia email è mario.rossi@email.it.\\n                Il mio documento d’identità è la carta d’identità numero CA1234567, rilasciata dal Comune di Milano il 5 gennaio 2020,\\n                con scadenza al 5 gennaio 2030.\\n            ',\n",
       "   '\\n                Mario Rossi nel tempo libero ama praticare le attività subacquee quando va a trovare la madre in Sicilia.\\n                Due su tutte: diving e snorkeling. Queste esperienze gli permettono di unire il piacere\\n                dell’esplorazione delle coste soleggiate del bel paese alla ricerca di equilibrio e concentrazione.\\n            ',\n",
       "   '\\n                Ingegnere informatico con oltre 10 anni di esperienza nello sviluppo software e nella gestione di infrastrutture tecnologiche.\\n                Competenze tecniche\\n                Linguaggi: Python, Java, C++\\n                Database: MySQL, PostgreSQL\\n                Cloud: AWS, Azure\\n                Reti e protocolli: TCP/IP, VoIP, 5G\\n                Metodologie: Agile, Scrum\\n            ']],\n",
       " 'uris': None,\n",
       " 'included': ['metadatas', 'documents', 'distances'],\n",
       " 'data': None,\n",
       " 'metadatas': [[{'tipo_doc': 'anagrafica'},\n",
       "   {'tipo_doc': 'hobby'},\n",
       "   {'tipo_doc': 'studi'}]],\n",
       " 'distances': [[1.200808048248291, 1.5710691213607788, 1.8607163429260254]]}"
      ]
     },
     "execution_count": 22,
     "metadata": {},
     "output_type": "execute_result"
    }
   ],
   "source": [
    "results = collection.query(\n",
    "    query_texts=[\"Italia\"],\n",
    "    n_results=3\n",
    ")\n",
    "\n",
    "results"
   ]
  },
  {
   "cell_type": "code",
   "execution_count": 23,
   "id": "293a8b4a906010fe",
   "metadata": {
    "ExecuteTime": {
     "end_time": "2025-07-29T09:45:20.691562Z",
     "start_time": "2025-07-29T09:45:20.675791Z"
    },
    "collapsed": false,
    "jupyter": {
     "outputs_hidden": false
    }
   },
   "outputs": [],
   "source": [
    "collection.update(\n",
    "    ids=[\"id1\"],\n",
    "    documents=[\"Openai è un'azienda che si occupa di intelligenza artificiale.\"],\n",
    "    metadatas=[{\"tipo_doc\": \"anagrafica\"}],\n",
    ")"
   ]
  },
  {
   "cell_type": "code",
   "execution_count": 24,
   "id": "44662414d46e7aa9",
   "metadata": {
    "ExecuteTime": {
     "end_time": "2025-07-29T09:45:20.725437Z",
     "start_time": "2025-07-29T09:45:20.707239Z"
    },
    "collapsed": false,
    "jupyter": {
     "outputs_hidden": false
    }
   },
   "outputs": [
    {
     "data": {
      "text/plain": [
       "{'ids': [['id3', 'id1', 'id2']],\n",
       " 'embeddings': None,\n",
       " 'documents': [['\\n                Mario Rossi nel tempo libero ama praticare le attività subacquee quando va a trovare la madre in Sicilia.\\n                Due su tutte: diving e snorkeling. Queste esperienze gli permettono di unire il piacere\\n                dell’esplorazione delle coste soleggiate del bel paese alla ricerca di equilibrio e concentrazione.\\n            ',\n",
       "   \"Openai è un'azienda che si occupa di intelligenza artificiale.\",\n",
       "   '\\n                Ingegnere informatico con oltre 10 anni di esperienza nello sviluppo software e nella gestione di infrastrutture tecnologiche.\\n                Competenze tecniche\\n                Linguaggi: Python, Java, C++\\n                Database: MySQL, PostgreSQL\\n                Cloud: AWS, Azure\\n                Reti e protocolli: TCP/IP, VoIP, 5G\\n                Metodologie: Agile, Scrum\\n            ']],\n",
       " 'uris': None,\n",
       " 'included': ['metadatas', 'documents', 'distances'],\n",
       " 'data': None,\n",
       " 'metadatas': [[{'tipo_doc': 'hobby'},\n",
       "   {'tipo_doc': 'anagrafica'},\n",
       "   {'tipo_doc': 'studi'}]],\n",
       " 'distances': [[1.5710691213607788, 1.6009643077850342, 1.8607163429260254]]}"
      ]
     },
     "execution_count": 24,
     "metadata": {},
     "output_type": "execute_result"
    }
   ],
   "source": [
    "results = collection.query(\n",
    "    query_texts=[\"Italia\"],\n",
    "    n_results=3\n",
    ")\n",
    "\n",
    "results"
   ]
  },
  {
   "cell_type": "code",
   "execution_count": 25,
   "id": "aad6d400b871a148",
   "metadata": {
    "ExecuteTime": {
     "end_time": "2025-07-29T09:45:20.758447Z",
     "start_time": "2025-07-29T09:45:20.738601Z"
    },
    "collapsed": false,
    "jupyter": {
     "outputs_hidden": false
    }
   },
   "outputs": [
    {
     "data": {
      "text/plain": [
       "{'ids': [['id3', 'id2']],\n",
       " 'embeddings': None,\n",
       " 'documents': [['\\n                Mario Rossi nel tempo libero ama praticare le attività subacquee quando va a trovare la madre in Sicilia.\\n                Due su tutte: diving e snorkeling. Queste esperienze gli permettono di unire il piacere\\n                dell’esplorazione delle coste soleggiate del bel paese alla ricerca di equilibrio e concentrazione.\\n            ',\n",
       "   '\\n                Ingegnere informatico con oltre 10 anni di esperienza nello sviluppo software e nella gestione di infrastrutture tecnologiche.\\n                Competenze tecniche\\n                Linguaggi: Python, Java, C++\\n                Database: MySQL, PostgreSQL\\n                Cloud: AWS, Azure\\n                Reti e protocolli: TCP/IP, VoIP, 5G\\n                Metodologie: Agile, Scrum\\n            ']],\n",
       " 'uris': None,\n",
       " 'included': ['metadatas', 'documents', 'distances'],\n",
       " 'data': None,\n",
       " 'metadatas': [[{'tipo_doc': 'hobby'}, {'tipo_doc': 'studi'}]],\n",
       " 'distances': [[1.2286373376846313, 1.5344874858856201]]}"
      ]
     },
     "execution_count": 25,
     "metadata": {},
     "output_type": "execute_result"
    }
   ],
   "source": [
    "collection.delete(ids = ['id1'])\n",
    "\n",
    "results = collection.query(\n",
    "    query_texts=[\"qual'è il nome?\"],\n",
    "    n_results=3\n",
    ")\n",
    "\n",
    "results"
   ]
  },
  {
   "cell_type": "code",
   "execution_count": 26,
   "id": "1929f980",
   "metadata": {},
   "outputs": [
    {
     "data": {
      "text/plain": [
       "{'ids': [['id2', 'id3']],\n",
       " 'embeddings': None,\n",
       " 'documents': [['\\n                Ingegnere informatico con oltre 10 anni di esperienza nello sviluppo software e nella gestione di infrastrutture tecnologiche.\\n                Competenze tecniche\\n                Linguaggi: Python, Java, C++\\n                Database: MySQL, PostgreSQL\\n                Cloud: AWS, Azure\\n                Reti e protocolli: TCP/IP, VoIP, 5G\\n                Metodologie: Agile, Scrum\\n            ',\n",
       "   '\\n                Mario Rossi nel tempo libero ama praticare le attività subacquee quando va a trovare la madre in Sicilia.\\n                Due su tutte: diving e snorkeling. Queste esperienze gli permettono di unire il piacere\\n                dell’esplorazione delle coste soleggiate del bel paese alla ricerca di equilibrio e concentrazione.\\n            ']],\n",
       " 'uris': None,\n",
       " 'included': ['metadatas', 'documents', 'distances'],\n",
       " 'data': None,\n",
       " 'metadatas': [[{'tipo_doc': 'studi'}, {'tipo_doc': 'hobby'}]],\n",
       " 'distances': [[1.560471773147583, 2.0128743648529053]]}"
      ]
     },
     "execution_count": 26,
     "metadata": {},
     "output_type": "execute_result"
    }
   ],
   "source": [
    "results = collection.query(\n",
    "    query_texts=[\"Excel\"],\n",
    "    n_results=2\n",
    ")\n",
    "\n",
    "results"
   ]
  },
  {
   "cell_type": "code",
   "execution_count": 27,
   "id": "be97078f83716cd4",
   "metadata": {
    "ExecuteTime": {
     "end_time": "2025-07-29T09:45:20.811779Z",
     "start_time": "2025-07-29T09:45:20.807216Z"
    },
    "collapsed": false,
    "jupyter": {
     "outputs_hidden": false
    }
   },
   "outputs": [
    {
     "data": {
      "text/plain": [
       "2"
      ]
     },
     "execution_count": 27,
     "metadata": {},
     "output_type": "execute_result"
    }
   ],
   "source": [
    "collection.count()"
   ]
  },
  {
   "cell_type": "code",
   "execution_count": 28,
   "id": "48a167e5deab562b",
   "metadata": {
    "ExecuteTime": {
     "end_time": "2025-07-29T09:45:20.906417Z",
     "start_time": "2025-07-29T09:45:20.879052Z"
    },
    "collapsed": false,
    "jupyter": {
     "outputs_hidden": false
    }
   },
   "outputs": [],
   "source": [
    "collection.add(\n",
    "    documents = [doc_1_anagrafica],\n",
    "    metadatas = [{\"tipo_doc\": \"anagrafica\"}],\n",
    "    ids = [\"id1\"]\n",
    ")"
   ]
  },
  {
   "cell_type": "code",
   "execution_count": 29,
   "id": "416a68a4",
   "metadata": {},
   "outputs": [],
   "source": [
    "doc_2_anagrafica = \"\"\"\n",
    "                Mi chiamo Lucia Bianchi, sono nata il 3 marzo 1990 a Firenze e attualmente vivo a Roma, in Via Giulia 22.\n",
    "                Sono di nazionalità italiana e sono laureata in Economia e Commercio.\n",
    "                Il mio numero di telefono è +39 347 9876543 e la mia email è lucia.bianchi@email.it.\n",
    "                Il mio documento d’identità è la carta d’identità numero CB7654321, rilasciata dal Comune di Roma il 10 settembre 2021,\n",
    "                con scadenza al 10 settembre 2031.\n",
    "            \"\"\"\n",
    "\n",
    "doc_2_studi = \"\"\"\n",
    "                Economista con esperienza pluriennale nella consulenza aziendale e nell’analisi finanziaria.\n",
    "                Competenze tecniche\n",
    "                Analisi: bilanci, business plan, modelli previsionali\n",
    "                Software: Excel avanzato, Stata, R\n",
    "                Settori: bancario, assicurativo, retail\n",
    "                Metodologie: Lean Six Sigma, Project Management\n",
    "            \"\"\"\n",
    "\n",
    "doc_2_hobby = \"\"\"\n",
    "                Nel tempo libero, Lucia Bianchi ama dedicarsi alla fotografia di viaggio e alla cucina gourmet.\n",
    "                Trova particolare ispirazione nel ritrarre mercati e paesaggi urbani, che racconta poi\n",
    "                in piccoli diari fotografici condivisi con amici e colleghi.\n",
    "            \"\"\"\n"
   ]
  },
  {
   "cell_type": "code",
   "execution_count": 30,
   "id": "6d3f032b",
   "metadata": {},
   "outputs": [],
   "source": [
    "doc_3_anagrafica = \"\"\"\n",
    "                Mi chiamo Alessandro Romano, sono nato il 27 novembre 1982 a Torino e attualmente vivo a Milano, in Corso Sempione 45.\n",
    "                Sono di nazionalità italiana e sono laureato in Architettura.\n",
    "                Il mio numero di telefono è +39 320 1122334 e la mia email è alessandro.romano@email.it.\n",
    "                Il mio documento d’identità è la carta d’identità numero CR3344556, rilasciata dal Comune di Milano il 15 febbraio 2019,\n",
    "                con scadenza al 15 febbraio 2029.\n",
    "            \"\"\"\n",
    "\n",
    "doc_3_studi = \"\"\"\n",
    "                Architetto con oltre 15 anni di esperienza nella progettazione di spazi residenziali e pubblici.\n",
    "                Competenze tecniche\n",
    "                Software: AutoCAD, Revit, Rhino, SketchUp\n",
    "                Ambiti: urbanistica, restauro, interior design\n",
    "                Competenze trasversali: project management, gestione di cantieri complessi\n",
    "                Metodologie: BIM, sostenibilità ambientale, design thinking\n",
    "            \"\"\"\n",
    "\n",
    "doc_3_hobby = \"\"\"\n",
    "                Alessandro Romano nel tempo libero coltiva la passione per la montagna.\n",
    "                Ama il trekking e l’alpinismo, attività che gli permettono di rigenerarsi e\n",
    "                trovare nuove ispirazioni creative per il suo lavoro di progettazione.\n",
    "            \"\"\"\n"
   ]
  },
  {
   "cell_type": "code",
   "execution_count": 31,
   "id": "9b31e69dae9250ce",
   "metadata": {
    "ExecuteTime": {
     "end_time": "2025-07-29T09:45:20.999990Z",
     "start_time": "2025-07-29T09:45:20.926208Z"
    },
    "collapsed": false,
    "jupyter": {
     "outputs_hidden": false
    }
   },
   "outputs": [],
   "source": [
    "collection.add(\n",
    "    documents = [doc_2_anagrafica, doc_2_studi, doc_2_hobby],\n",
    "    metadatas = [{\"tipo_doc\": \"anagrafica\"},{\"tipo_doc\": \"studi\"},{'tipo_doc':'hobby'}],\n",
    "    ids = [\"id4\", \"id5\", \"id6\"]\n",
    ")\n",
    "\n",
    "collection.add(\n",
    "    documents = [doc_3_anagrafica, doc_3_studi, doc_3_hobby],\n",
    "    metadatas = [{\"tipo_doc\": \"anagrafica\"},{\"tipo_doc\": \"studi\"},{'tipo_doc':'hobby'}],\n",
    "    ids = [\"id7\", \"id8\", \"id9\"]\n",
    ")"
   ]
  },
  {
   "cell_type": "code",
   "execution_count": 34,
   "id": "2c5412ca70d6bb5c",
   "metadata": {
    "ExecuteTime": {
     "end_time": "2025-07-29T09:45:21.029396Z",
     "start_time": "2025-07-29T09:45:21.014173Z"
    },
    "collapsed": false,
    "jupyter": {
     "outputs_hidden": false
    }
   },
   "outputs": [
    {
     "data": {
      "text/plain": [
       "{'ids': [['id1', 'id4', 'id6']],\n",
       " 'embeddings': None,\n",
       " 'documents': [['\\n                Mi chiamo Mario Rossi, sono nato il 12 maggio 1985 a Bologna e attualmente vivo a Milano, in Via Verdi 14.\\n                Sono di nazionalità italiana e sono laureato in Ingegneria delle Telecomunicazioni.\\n                Il mio numero di telefono è +39 333 1234567 e la mia email è mario.rossi@email.it.\\n                Il mio documento d’identità è la carta d’identità numero CA1234567, rilasciata dal Comune di Milano il 5 gennaio 2020,\\n                con scadenza al 5 gennaio 2030.\\n            ',\n",
       "   '\\n                Mi chiamo Lucia Bianchi, sono nata il 3 marzo 1990 a Firenze e attualmente vivo a Roma, in Via Giulia 22.\\n                Sono di nazionalità italiana e sono laureata in Economia e Commercio.\\n                Il mio numero di telefono è +39 347 9876543 e la mia email è lucia.bianchi@email.it.\\n                Il mio documento d’identità è la carta d’identità numero CB7654321, rilasciata dal Comune di Roma il 10 settembre 2021,\\n                con scadenza al 10 settembre 2031.\\n            ',\n",
       "   '\\n                Nel tempo libero, Lucia Bianchi ama dedicarsi alla fotografia di viaggio e alla cucina gourmet.\\n                Trova particolare ispirazione nel ritrarre mercati e paesaggi urbani, che racconta poi\\n                in piccoli diari fotografici condivisi con amici e colleghi.\\n            ']],\n",
       " 'uris': None,\n",
       " 'included': ['metadatas', 'documents', 'distances'],\n",
       " 'data': None,\n",
       " 'metadatas': [[{'tipo_doc': 'anagrafica'},\n",
       "   {'tipo_doc': 'anagrafica'},\n",
       "   {'tipo_doc': 'hobby'}]],\n",
       " 'distances': [[0.9481964111328125, 0.9689404964447021, 0.9772101640701294]]}"
      ]
     },
     "execution_count": 34,
     "metadata": {},
     "output_type": "execute_result"
    }
   ],
   "source": [
    "results = collection.query(\n",
    "    query_texts=[\"chi è vissuto a Milano?\"],\n",
    "    n_results=3\n",
    ")\n",
    "\n",
    "results"
   ]
  },
  {
   "cell_type": "code",
   "execution_count": 35,
   "id": "bc2e56ba9e5c4faa",
   "metadata": {
    "ExecuteTime": {
     "end_time": "2025-07-29T09:45:21.087301Z",
     "start_time": "2025-07-29T09:45:21.067503Z"
    },
    "collapsed": false,
    "jupyter": {
     "outputs_hidden": false
    }
   },
   "outputs": [
    {
     "data": {
      "text/plain": [
       "{'ids': [['id6']],\n",
       " 'embeddings': None,\n",
       " 'documents': [['\\n                Nel tempo libero, Lucia Bianchi ama dedicarsi alla fotografia di viaggio e alla cucina gourmet.\\n                Trova particolare ispirazione nel ritrarre mercati e paesaggi urbani, che racconta poi\\n                in piccoli diari fotografici condivisi con amici e colleghi.\\n            ']],\n",
       " 'uris': None,\n",
       " 'included': ['metadatas', 'documents', 'distances'],\n",
       " 'data': None,\n",
       " 'metadatas': [[{'tipo_doc': 'hobby'}]],\n",
       " 'distances': [[1.5920305252075195]]}"
      ]
     },
     "execution_count": 35,
     "metadata": {},
     "output_type": "execute_result"
    }
   ],
   "source": [
    "# Fujifilm è un'azienda che si occupa di fotografia e imaging.\n",
    "\n",
    "results = collection.query(\n",
    "    query_texts=[\"Fujifilm\"],\n",
    "    n_results=1\n",
    ")\n",
    "\n",
    "results"
   ]
  },
  {
   "cell_type": "markdown",
   "id": "16f6e30c6dd445ef",
   "metadata": {
    "collapsed": false,
    "jupyter": {
     "outputs_hidden": false
    }
   },
   "source": [
    "### Embeddings\n",
    "\n",
    "di default Chroma utilizza Sentence-Transformers [https://www.sbert.net/](https://www.sbert.net/) come motore di Embeddings.\n"
   ]
  },
  {
   "cell_type": "code",
   "execution_count": 36,
   "id": "b5a89e7bdc136f28",
   "metadata": {
    "ExecuteTime": {
     "end_time": "2025-07-29T09:45:21.136008Z",
     "start_time": "2025-07-29T09:45:21.132837Z"
    },
    "collapsed": false,
    "jupyter": {
     "outputs_hidden": false
    }
   },
   "outputs": [],
   "source": [
    "from chromadb.utils import embedding_functions\n",
    "default_ef = embedding_functions.DefaultEmbeddingFunction()"
   ]
  },
  {
   "cell_type": "code",
   "execution_count": 37,
   "id": "bd29655fd7b9d810",
   "metadata": {
    "ExecuteTime": {
     "end_time": "2025-07-29T09:45:21.269374Z",
     "start_time": "2025-07-29T09:45:21.149624Z"
    },
    "collapsed": false,
    "jupyter": {
     "outputs_hidden": false
    }
   },
   "outputs": [
    {
     "name": "stdout",
     "output_type": "stream",
     "text": [
      "[-2.74117365e-02 -4.52973954e-02 -4.68821041e-02 -5.17503917e-02\n",
      " -5.59991822e-02  9.66428779e-03 -4.56237793e-02 -8.37603025e-03\n",
      " -7.03262165e-02 -3.66758667e-02  4.05146666e-02 -2.60963757e-02\n",
      "  1.53817870e-02 -6.61555305e-02 -8.72815698e-02  1.29878130e-02\n",
      " -8.31131637e-02  8.90219659e-02  5.30792549e-02  5.42206615e-02\n",
      " -7.08594695e-02  6.23560336e-04  2.07434441e-05  1.18911751e-02\n",
      "  8.01808387e-02  7.25713298e-02  1.02518998e-01  2.91657206e-02\n",
      " -1.42895579e-02 -9.00174081e-02  5.28917648e-02  9.03188661e-02\n",
      "  3.39731015e-02  5.99679574e-02 -4.74099964e-02  7.42621813e-03\n",
      "  2.62735710e-02 -5.46358675e-02 -6.91662356e-02  4.92184870e-02\n",
      " -4.76066880e-02 -1.77803561e-02 -3.34417596e-02  3.26448865e-02\n",
      "  7.77293816e-02  2.50192154e-02 -7.09568150e-03 -4.26149294e-02\n",
      "  3.90170664e-02 -1.80195998e-02 -1.45087689e-01 -1.37846917e-03\n",
      " -5.18627698e-04  3.30597199e-02 -1.11395372e-02  1.00705996e-02\n",
      "  3.72958407e-02 -5.18062431e-03 -2.88757402e-02 -3.19952108e-02\n",
      "  1.43145313e-02 -9.18275560e-04 -1.06866406e-02 -8.15583300e-03\n",
      "  1.30619379e-02 -1.96356513e-02 -6.16992638e-02  4.27790023e-02\n",
      "  5.25479577e-02 -6.65883198e-02 -2.45928615e-02 -1.47263203e-02\n",
      " -3.87071893e-02  2.24263240e-02 -4.92152162e-02  7.22471476e-02\n",
      "  3.28755043e-02 -2.51644012e-03  7.90614039e-02 -7.64989555e-02\n",
      " -5.19041307e-02 -1.77670624e-02 -4.06634286e-02 -1.55024556e-02\n",
      "  3.59971523e-02  2.92195026e-02  4.82979883e-03  6.22867048e-02\n",
      "  2.88851894e-02  5.04069664e-02  5.48352674e-02  5.49434982e-02\n",
      " -3.32215428e-02  2.68170275e-02 -6.42268956e-02 -4.07615863e-02\n",
      "  1.14225507e-01 -8.50306079e-03  9.29776654e-02  6.76606447e-02\n",
      "  3.45440470e-02  1.99183226e-02 -3.33429850e-03  8.48193094e-02\n",
      " -1.16020732e-01 -5.38429357e-02  1.11965790e-01 -5.61169200e-02\n",
      "  7.97973853e-03 -4.35852073e-02 -2.84790490e-02 -4.28468958e-02\n",
      " -1.18692823e-01 -1.38383180e-01 -4.65313997e-03 -3.54361907e-02\n",
      " -3.22371460e-02 -1.22821508e-02  7.68948719e-03 -5.26353754e-02\n",
      " -5.57230413e-02 -2.05367301e-02 -4.71002683e-02  2.98404414e-02\n",
      " -4.11921591e-02  4.05913368e-02 -8.33588317e-02  8.16157207e-34\n",
      " -6.83840588e-02 -2.94980574e-02  5.53572439e-02 -2.82832906e-02\n",
      " -1.02950461e-01  2.70350464e-02 -7.14785904e-02 -8.54739547e-03\n",
      " -1.04657514e-02  2.12546438e-02 -1.56172603e-01  3.08913402e-02\n",
      " -5.04440218e-02 -3.04761739e-03  4.78022136e-02 -2.38037854e-02\n",
      "  7.24569485e-02  6.91876560e-03  8.85245111e-03 -2.54511591e-02\n",
      "  5.62622398e-02 -3.37483175e-03 -2.02294067e-02 -2.01065000e-02\n",
      "  6.45280443e-03  4.07148711e-02  1.00910235e-02 -7.88930580e-02\n",
      "  9.59524419e-03  6.72427714e-02  1.50391487e-02 -5.25178351e-02\n",
      " -4.58688773e-02  4.98336032e-02 -2.62684543e-02 -8.69703581e-05\n",
      " -8.58796239e-02  4.32397658e-03 -8.16054735e-03 -5.15755191e-02\n",
      "  1.44179945e-03 -1.79161076e-02  5.68252280e-02 -3.57072540e-02\n",
      " -1.96043421e-02  6.11319877e-02  4.78584915e-02  1.58433747e-02\n",
      "  8.94896388e-02 -2.27511581e-02 -2.67014210e-03  5.28367655e-03\n",
      " -1.00504130e-01 -5.15622413e-03  3.45244408e-02  6.15382828e-02\n",
      " -5.73700443e-02  4.44121771e-02  2.25385223e-02  3.98698710e-02\n",
      " -3.20995450e-02  4.47405949e-02  3.82570773e-02 -9.42930058e-02\n",
      "  7.63922110e-02 -2.84317438e-03 -1.82031710e-02 -4.46621291e-02\n",
      "  3.09743714e-02  5.54812588e-02 -4.55295853e-02  4.00315821e-02\n",
      "  7.33996332e-02 -4.03804258e-02 -7.00455830e-02  3.80348153e-02\n",
      "  1.30010163e-02 -7.03488290e-02 -8.68946239e-02  3.85313183e-02\n",
      " -5.81172556e-02 -1.93733703e-02 -7.98891671e-03 -8.23166519e-02\n",
      "  6.59102723e-02  3.23298797e-02  1.68760940e-02 -5.42108454e-02\n",
      " -4.89470325e-02  3.55813541e-02  3.80847082e-02  4.86954525e-02\n",
      " -1.06453300e-02 -2.23983992e-02 -3.97565998e-02 -1.16476043e-33\n",
      " -5.11056185e-02 -8.97549093e-03 -1.96231641e-02 -3.35406847e-02\n",
      " -2.28704493e-02  2.44559329e-02 -7.85203129e-02  4.48510051e-02\n",
      " -6.21866174e-02  9.12381615e-03 -4.22930606e-02 -1.02477871e-01\n",
      "  1.02299698e-01 -8.49915296e-02  5.13865910e-02  5.41541204e-02\n",
      " -3.20453458e-02 -4.22754250e-02 -1.22610126e-02  4.86450605e-02\n",
      " -4.04673442e-02  7.65731111e-02 -1.34388488e-02 -2.00810991e-02\n",
      " -4.01111096e-02 -2.81065982e-02  5.78956679e-02  5.40367747e-03\n",
      " -5.80909774e-02  2.95424033e-02  4.95761372e-02 -7.66935050e-02\n",
      " -5.60908429e-02  6.01289421e-02  1.62919722e-02 -4.95368652e-02\n",
      "  4.10252018e-03 -1.68191046e-02  8.12952667e-02 -5.64309163e-03\n",
      " -1.07417982e-02  8.38500187e-02 -3.46638933e-02 -1.52612454e-03\n",
      " -4.50345268e-03 -3.03692706e-02 -3.97418365e-02  1.38307855e-01\n",
      "  7.12466389e-02  3.57118621e-02  2.79329158e-02 -1.79053638e-02\n",
      "  2.00870298e-02 -1.34275723e-02  1.40600264e-01  1.97332259e-02\n",
      " -6.50896952e-02 -2.79823449e-02  1.15497880e-01 -1.78457517e-02\n",
      "  7.69964373e-03 -4.33340333e-02 -4.78982776e-02  3.26950550e-02\n",
      "  4.41971198e-02 -1.33902254e-02 -9.79267526e-03  3.80326435e-02\n",
      " -7.80561194e-02 -2.76312086e-04  7.66895562e-02  4.60523553e-02\n",
      " -1.31740142e-02  6.02832288e-02 -1.25553729e-02  2.09660437e-02\n",
      " -3.51854339e-02  6.27829786e-03 -3.05413138e-02 -1.35687832e-02\n",
      "  3.47783044e-02  3.36540751e-02  1.02411799e-01  6.68926463e-02\n",
      "  2.69809756e-02  7.50897527e-02 -1.54430163e-03 -8.62264186e-02\n",
      "  2.20103450e-02  1.74273876e-03  1.91321373e-02  7.39602447e-02\n",
      " -7.32303225e-03  1.09212160e-01  4.52522916e-04 -1.32879059e-08\n",
      "  2.41739638e-02 -1.05566487e-01  6.47049025e-03 -4.85452153e-02\n",
      "  1.15986675e-01 -5.06911315e-02 -5.30092083e-02  6.53492287e-02\n",
      " -7.88229704e-03  3.48430909e-02  8.90440792e-02 -3.43152955e-02\n",
      " -3.46758999e-02  2.98348144e-02  2.13246457e-02  4.21158643e-03\n",
      "  7.95141309e-02  4.39384207e-02  2.12291395e-03  5.10427952e-02\n",
      "  4.32948843e-02  5.87280206e-02 -2.20426209e-02 -8.94081034e-03\n",
      "  5.54339476e-02  3.98593843e-02 -2.85599567e-02  3.73762511e-02\n",
      "  7.41977468e-02 -1.16649583e-01  3.59587483e-02  2.67017428e-02\n",
      "  8.57734308e-02 -4.95557450e-02  6.27696887e-03  3.89926322e-02\n",
      "  2.42897924e-02  7.88160563e-02 -8.47695395e-02  2.47546881e-02\n",
      "  2.65872944e-02  1.81375053e-02  6.64192587e-02 -2.11178176e-02\n",
      "  6.82362076e-03  5.09774722e-02  4.00545560e-02 -8.93677771e-02\n",
      "  4.06166501e-02  2.22401861e-02 -3.72780785e-02 -4.50006081e-03\n",
      "  5.94439059e-02  5.63475378e-02  2.99941581e-02  3.78929265e-02\n",
      " -4.42367606e-02  3.22075561e-02  2.89226528e-02 -4.87864278e-02\n",
      " -1.60461478e-02  3.65094375e-03 -6.70745298e-02 -6.04380621e-03]  "
     ]
    }
   ],
   "source": [
    "vect = default_ef([\"Meglio un vector database\"])\n",
    "\n",
    "for elem in vect:\n",
    "    print(elem, \" \", end=\"\")"
   ]
  },
  {
   "cell_type": "code",
   "execution_count": 38,
   "id": "f70b5f1b",
   "metadata": {},
   "outputs": [
    {
     "name": "stdout",
     "output_type": "stream",
     "text": [
      "Lunghezza embedding_vector (Chroma): 384\n"
     ]
    }
   ],
   "source": [
    "print(f\"Lunghezza embedding_vector (Chroma): {len(vect[0])}\")"
   ]
  },
  {
   "cell_type": "markdown",
   "id": "f2463faf45c4b611",
   "metadata": {
    "collapsed": false,
    "jupyter": {
     "outputs_hidden": false
    }
   },
   "source": [
    "E' possibile naturalmente integrare Chroma con altri Embeddings, come ad esempio i pricipali disponibili su [OpenAI](https://platform.openai.com/docs/guides/embeddings/embedding-models):\n",
    "* text-embedding-ada-002\n",
    "* text-embedding-3-small\n",
    "* text-embedding-3-large"
   ]
  },
  {
   "cell_type": "code",
   "execution_count": 39,
   "id": "3f51a6c194254d69",
   "metadata": {
    "ExecuteTime": {
     "end_time": "2025-07-29T09:45:21.784010Z",
     "start_time": "2025-07-29T09:45:21.297650Z"
    },
    "collapsed": false,
    "jupyter": {
     "outputs_hidden": false
    }
   },
   "outputs": [],
   "source": [
    "import chromadb.utils.embedding_functions as embedding_functions\n",
    "\n",
    "openai_ef = embedding_functions.OpenAIEmbeddingFunction(\n",
    "    api_key=os.getenv(\"openai_api_key\"),\n",
    "    model_name=\"text-embedding-3-small\"\n",
    ")"
   ]
  },
  {
   "cell_type": "code",
   "execution_count": 40,
   "id": "508d74b084388918",
   "metadata": {
    "ExecuteTime": {
     "end_time": "2025-07-29T09:45:22.559439Z",
     "start_time": "2025-07-29T09:45:21.793665Z"
    },
    "collapsed": false,
    "jupyter": {
     "outputs_hidden": false
    }
   },
   "outputs": [
    {
     "name": "stdout",
     "output_type": "stream",
     "text": [
      "0.021899315  -0.039161127  0.014247436  0.030813623  0.02193796  -0.017055701  -0.038207863  0.06817128  -0.020237543  -0.07590045  0.035167724  -0.03635286  -0.029216262  0.0013051025  0.056989744  0.042278558  -0.009088215  0.006057737  0.04062967  0.053485855  0.048848353  0.022942754  -0.05054877  0.03091668  -0.005062606  -0.033596125  0.010125212  0.0035876231  0.009545525  -0.016772298  0.053485855  -0.037409183  -0.007168805  -0.0524553  -0.0011585704  0.019863967  -0.027928067  0.019657856  0.0073169474  -0.011703252  -0.03184418  -0.0456021  0.030066472  0.020379245  -0.009674344  -0.050651826  -0.010099448  0.017957438  -0.008315299  0.058741692  0.011323234  -0.010337764  0.037563767  0.07904364  0.022775287  -0.04570516  0.048642244  0.028958622  0.015265111  0.004682589  0.0055746636  0.0058355234  0.041660227  -0.0048114085  -0.017854383  -0.0006553692  -0.019967021  0.03065904  -0.008141392  -0.028778275  -0.03369918  0.032539804  -0.022504766  -6.858632e-05  0.005606869  -0.019657856  -0.03565724  -0.017287577  0.02028907  0.031174319  -0.024913691  0.008489205  -0.003381512  -0.024990983  0.019838203  -0.041016128  -0.054052662  0.0240506  0.008366826  -0.019142577  0.014827124  0.04882259  -0.012315144  0.006170454  0.031303138  -0.010318442  -0.022156954  -0.01545834  0.040655434  -0.015265111  0.022749523  -0.010666255  0.0049756533  0.002148065  0.004576313  0.03988252  0.012495492  -0.023625497  -0.012476169  -0.0038420416  -0.05062606  0.008386149  -0.015574277  -0.00951332  -0.020173134  0.014955943  0.09192559  -0.07559128  0.021242335  -0.022324419  -0.01030556  -0.019400217  0.02398619  -0.043489464  -0.06502809  -0.014234555  -0.036146753  0.017854383  0.021744732  -0.068531975  -0.0035683  0.0143504925  0.023342093  -0.018124903  -0.031354666  -0.02120369  0.008147833  0.0024668933  -0.024823517  -0.0203406  0.07126295  -0.017764209  0.007149482  0.008167156  0.023264801  0.008154274  0.002133573  0.03838821  0.019206988  -0.054516412  -0.026639871  0.024359766  -0.0011408577  0.0030143762  -0.023161747  -0.0524553  0.016926883  -0.025532024  -0.044700366  0.054877106  0.030813623  0.0047727623  -0.05178544  -0.046555366  -0.06270933  0.029345082  -0.044236615  0.038079042  -0.04583398  0.052764468  -0.010595404  0.00035364978  -0.05456794  -0.01672077  0.013770805  -0.008927192  0.027000567  -0.014260318  -0.05021384  0.025261503  0.015226465  0.045112588  0.02536456  0.0013284511  0.0014033274  0.04704488  -0.034987375  0.02536456  -0.009532643  0.011007627  0.0035650795  0.02086876  0.004421729  0.045576338  0.004605297  0.003191503  0.03045293  -0.033312723  -0.0057646725  -0.0099448655  0.041067656  -0.043772865  0.013577575  -0.03179265  0.012862626  0.00839259  0.0072589787  0.04670995  0.02173185  -0.024089247  0.044288144  -0.023264801  -0.022156954  0.03872314  -0.044958007  -0.030221054  0.070747666  0.037538003  0.003719663  0.00468903  -0.04426238  0.062451694  0.053898077  0.015870562  0.007954604  -0.013603339  0.022144072  0.008862781  0.004035271  0.006093162  0.026665635  0.054052662  -0.046271965  0.009854692  -0.011909363  -0.00081075775  0.005622971  0.010002834  -0.017210284  0.006924048  -0.043231823  -0.036893904  -0.025995774  0.017132994  -0.021822022  -0.017094348  0.0043251147  -0.029886123  -0.061266553  0.010344205  -0.0035199928  0.0014870601  0.0068209926  -0.019194106  -0.013332818  0.029164735  -0.011123564  0.023677023  -0.006579456  -0.009609935  -0.010698459  -0.020817231  0.002080435  -0.043103006  -0.03243675  -0.022697996  -0.0032156566  -0.0091010975  -0.0068660793  0.011026949  0.007716288  -0.02582831  0.018215077  0.04877106  0.011529345  0.03408564  0.016901119  -0.0013920557  0.02787654  0.0132941725  -0.074200034  -0.044880714  -0.0012173443  0.016656362  -0.034523625  0.02265935  0.018627299  0.009481115  0.05946308  -0.003996625  0.0054941517  -0.0019983125  0.01446643  -0.01678518  0.0028919978  0.039805226  0.013461637  -0.0073491526  -0.045911267  0.0044700364  0.024024837  -0.01731334  0.050497245  0.004875818  -0.028597929  0.05047148  0.02417942  -0.060029887  -0.016914  -0.0011279758  -0.020160252  0.044365436  -0.007716288  -0.059823774  -0.029499665  -0.020675529  0.0029225925  -0.023908898  0.037280362  -0.013461637  0.021242335  -0.016205493  -0.015651569  -0.0017020276  -0.061678775  2.4241715e-05  0.016914  -0.04361828  0.004676148  -0.033828  -0.0036906786  -0.06456433  -0.011928686  0.019181224  0.024913691  0.01902664  -0.0132941725  0.006763024  -0.03872314  -0.0075874683  -0.025596434  -0.0024298579  -0.014414902  -0.028494872  -0.020714175  -0.03277168  0.010382852  -0.0050465036  0.0047856444  -0.012933478  -0.020353481  0.015046118  -0.024591642  -0.03243675  0.0065955585  0.0051495596  0.0063379193  -0.0156000415  0.02285258  0.042252794  0.033467304  -0.06312156  0.026871746  -0.011014067  0.00074030954  0.040397793  -0.043824393  -0.0009959358  0.007806462  8.522969e-06  -0.0077806977  -0.010382852  -0.032874737  0.028855568  -0.04709641  0.0028404698  -0.0034265986  0.03635286  0.07430308  0.02392178  0.047946617  0.009571289  -0.023174629  0.033828  0.02603442  -0.012218529  -0.01744216  0.024334002  0.0023863812  0.0073813573  0.014788479  -0.045808215  0.04433967  -0.014633895  0.034059875  -0.0076969652  0.066625446  0.016050909  -0.05992683  -0.0032220976  0.040243212  -0.04142835  0.024011955  0.02986036  -0.06296697  -0.0059160353  -0.035708766  0.01829237  0.016076673  -0.0067823464  0.0015538852  -0.049105994  0.036301333  0.05621683  -0.014530839  -0.03527078  -0.017081466  -0.0016021925  -0.0045795334  -0.0060351933  -0.0023251919  0.04379863  -0.03269439  0.01103339  -0.0034588035  0.027902303  0.01902664  -0.034472097  -0.021757614  -0.05972072  -0.02656258  0.000838937  0.00508515  0.050419953  0.0010200894  -0.010273355  0.0029177617  0.03779564  0.017094348  -0.017957438  -0.006917607  -0.042252794  -0.053588912  -0.01744216  0.03375071  -0.013358582  -0.0017599964  0.0049337866  -0.03673932  -0.017377751  -0.06379142  0.020649765  -0.0054200804  0.06111197  -0.012315144  0.032720152  -0.03496161  -0.0038806873  -0.0062799505  -0.0041705314  0.0029225925  0.016437368  -0.02398619  0.03715154  0.011471377  -0.005629412  -0.01718452  0.006547251  0.023432266  -0.034935847  0.0025618977  -0.007130159  -0.010692018  -0.020211779  -0.032874737  0.016527541  0.01829237  0.00878549  0.0003041348  -0.051295925  -0.028494872  0.05067759  -0.018743237  0.008869222  -0.0033138816  0.06801669  -0.011877158  0.023367858  -0.03658474  0.02040501  -0.007497295  0.0418921  0.040140156  -0.01393827  -0.026974803  -0.011452054  0.021165043  -0.016012264  -0.042845365  -0.01486577  0.018086258  0.00024495833  -0.016901119  -0.042098213  0.04691606  0.0030047148  -0.05379502  -0.012572783  0.017158758  -0.048255783  -0.0026134255  0.046091616  -0.005938579  -0.040397793  -0.021680322  0.035837583  0.010337764  0.027206678  0.0029612381  -0.04207245  0.0010740325  0.032204874  0.016282784  -0.05333127  0.022723759  -0.0036842376  -0.011993095  -0.04518988  -0.003606946  0.003151247  0.029448137  -0.021796258  -0.019786675  -0.009603494  -0.005571443  -0.01294636  0.042304322  0.003112601  -0.042433143  -0.031535015  0.018936466  -0.035167724  0.026742928  -0.043360643  -0.02153862  0.016772298  0.025003865  -0.016926883  0.042330086  0.009358737  -0.022504766  -0.001129586  0.008006132  -0.001031361  0.007426444  -0.007445767  0.018421188  -0.015406812  0.0002338879  0.036172517  -0.021770496  -0.0156000415  -0.000832496  -0.022878343  0.0032059953  0.046426546  -0.017467923  -0.011844953  -0.013616221  -0.035245016  -0.028572164  0.027258206  -0.021242335  -0.014943061  0.023161747  -0.008399031  0.04387592  0.022878343  0.011587314  0.0053556706  -0.019567681  0.014453548  -0.03758953  -0.008167156  -0.013133148  0.03065904  0.002557067  0.010601845  -0.023277683  0.06626475  -0.008038336  -0.02134539  -0.012836863  -0.02438553  0.03462668  -0.031071262  -0.0024234168  0.042098213  -0.011432731  0.034652445  0.015703097  -0.02245324  0.0061382493  0.014672541  0.023767198  0.0009983511  -0.021255217  -0.0039676405  0.0266914  -0.03581182  0.016875355  0.06131808  0.019374453  -0.050497245  0.010923893  0.036430154  0.02523574  -0.0066470862  -0.01578039  0.0015401981  -0.03375071  -0.017893028  0.029654248  0.034575153  0.008102747  0.04029474  -0.0021834904  -0.029061679  -0.04379863  -0.0019725487  0.018343896  0.0060029887  -0.00568416  -0.030117998  -0.015767507  -0.016347194  0.0099577475  -0.012746689  -0.010608286  -0.02345803  0.023135982  0.020791467  0.028056886  -0.02609883  0.054670993  0.018588653  0.047611687  0.021087753  -0.01889782  0.015690215  0.029808832  -0.010981862  -0.01532952  0.0014282862  -0.005861287  0.016372958  -0.018215077  -0.0024797753  0.0014556603  0.004486139  0.021886433  -0.009783841  -0.006614881  -0.0084763225  -0.01532952  0.011355439  0.0037711908  -0.006969135  -0.034265988  -0.030401401  0.00693693  0.016617715  0.01136832  -0.014608131  0.027387025  0.00023167381  0.029551193  -0.04315453  -0.0212681  0.007207451  -0.067965165  0.002524862  -0.018047612  0.021628793  0.01328129  0.017789973  -0.0026263075  -0.00015518724  -0.021744732  0.022697996  0.0008031091  0.031071262  0.014840006  0.02597001  -0.01883341  -0.05755655  0.004547328  -0.011020508  0.0012197596  -0.010807956  0.006044855  -0.02689751  -0.017261812  0.0046278406  0.021641675  -0.0434637  -0.003645592  0.0063926675  0.016424486  0.04379863  -0.016372958  0.010717782  -0.042922657  -0.020958932  0.009223476  0.02603442  -0.024527233  -0.018665945  0.007368475  -0.0019081389  -0.006218761  0.00957773  -0.06842892  0.0076003503  0.0035232133  -0.024153655  0.001929072  -0.038285155  0.02787654  0.018421188  0.0073105064  -0.018021848  0.011709692  0.0285464  -0.016411604  -0.0276189  -0.006263848  -0.046091616  -0.0060287523  -0.04570516  -0.0043315557  -0.0035844026  -0.008547174  -0.00482429  0.0147627145  0.009242799  -0.0015643517  0.025454734  -0.028288761  0.011935126  -0.0011939957  0.0086888755  -0.015020354  -0.0051946463  -0.012083269  -0.046194673  -0.0029580176  -0.016038027  -0.0005503008  0.030787861  0.026189003  0.02378008  -0.015741743  -0.024656052  0.011291029  0.0002825978  -0.03408564  0.0013928608  -0.0122507345  0.04704488  -0.02517133  0.016476015  -0.0051721027  0.022955634  0.0062090997  -0.014659659  0.010492348  0.012083269  -0.029035915  0.039753698  0.041479878  0.0047598802  -0.016952645  0.011948008  -0.010962539  -0.06312156  0.0033654093  -0.0013566304  -0.008199361  0.0147627145  0.03189571  0.024733344  -0.045267172  -0.014324728  0.016514659  0.015149173  -0.0012696772  0.020765703  -0.025300149  8.65506e-05  -0.048075438  -0.007490854  -0.024501469  0.01664348  0.022156954  0.0007056893  -0.022298655  -0.020327717  -0.007188128  -0.023110218  -0.02800536  -0.012360231  0.002167388  0.009539084  -0.034652445  -0.016038027  0.0082702115  0.027309734  -0.0054812697  -0.008643788  0.0667285  -0.009178389  -0.014324728  -0.01744216  0.030246818  0.023792962  0.008051218  -0.0007310507  -0.004988535  -0.03565724  0.004090019  0.0074071214  -0.024591642  -0.018266605  -0.007909517  0.03509043  -0.012527696  -0.0019838202  -0.01657907  -0.005622971  0.06734683  -0.019889731  0.029164735  -0.008405472  -0.0053814347  0.011555109  -0.003336425  -0.0035167723  -0.031277373  0.022440357  -0.04034627  0.0012712874  0.022363065  -0.02088164  0.009597053  0.02299428  -0.0073040654  -0.018137785  0.016733652  0.0067565828  -0.03248828  0.045344464  0.0018050832  -0.015561395  0.027412789  -0.0055875457  0.021358272  -0.029576957  0.0060802805  -0.012147679  -0.0078579895  0.038671613  -0.03712578  -0.016914  -0.00792884  0.02715515  -0.042175505  0.019232752  0.0019242413  -0.014479311  0.030633276  -0.0014387527  0.016682126  -0.0031013293  -0.008360385  -0.020160252  -0.025918484  0.005056165  -0.008553615  0.03699696  0.00541686  -0.02736126  -0.013899623  -0.037280362  0.030968208  0.0075939093  -0.026614109  0.027309734  -0.017145876  0.038079042  -0.015484104  0.021100635  -0.051502034  0.008830576  -0.0084763225  0.03387953  0.007903076  0.0028130957  -0.0041125626  -0.009075333  -0.007832225  -0.012836863  0.03184418  -0.016733652  0.023896016  0.040217448  -0.024823517  0.021963725  0.031638067  0.0020385685  0.0010603454  -0.0025007084  -0.009603494  0.010415057  -0.033518832  0.022440357  -0.01942598  0.026845984  0.010125212  -0.006486062  -0.00048387825  0.03416293  -0.006692173  0.009384501  -0.012991446  0.027026331  -0.0034040553  0.020508064  0.017287577  -0.012443963  -0.04248467  0.010601845  -0.012186324  -0.044648837  0.03594064  0.018086258  0.007181687  0.026343588  0.029680012  -0.023573969  -0.008463441  0.005606869  -0.006495723  0.027773485  0.03429175  -0.030942444  0.030427165  -0.014286082  -0.010749987  0.029370846  -0.02643376  -0.016192611  -0.02707786  -0.0065375897  -0.012907714  0.034703974  0.01809914  -0.005490931  0.018060494  0.018665945  0.02187355  -0.01645025  0.00061471056  0.009790282  0.034111403  -0.013191117  0.012347349  -0.01433761  0.03944453  -0.01875612  0.014530839  0.006296053  -0.032874737  -0.034781266  -0.052970577  0.039727934  0.025879838  0.022633586  -0.0026504612  -0.026614109  -0.01704282  0.014376256  -0.011748338  0.017377751  -0.009191271  -0.019670738  -0.028185707  -0.041866336  -0.010917452  0.017132994  0.018859174  -0.029499665  -0.020134488  -0.027026331  0.0056455145  0.0078515485  0.014234555  0.0040513733  -0.009532643  -0.011355439  0.0022511207  0.006621322  -0.0067759054  0.018202195  0.017558098  -0.007445767  0.042046685  0.03112279  -0.0016029977  0.0063121556  0.01440202  -0.015136291  0.02973154  0.0042446023  0.00072783016  -0.016153965  0.041660227  0.041969392  0.036816612  -0.0031721801  0.012115474  0.057762664  -0.030581748  0.031200083  0.023110218  0.01261787  0.013835214  -0.04034627  0.017055701  0.012514814  0.019670738  -0.0016335923  -0.033003554  -0.016540423  -0.041711755  0.04062967  0.0050046374  0.04776627  0.036172517  0.03619828  0.0028082652  -0.0021061988  0.027721956  0.032076053  -0.0093136495  0.031406194  -0.0058773896  0.0065633534  -0.017596744  0.0105631985  -0.023342093  0.025776781  3.2230033e-05  -0.0020433993  -0.0038935693  -0.022182718  0.00068234076  0.070386976  0.0059611225  0.032462515  -0.0041640904  0.020250425  0.0040062866  0.046040088  0.0036649148  -0.06270933  0.016128201  -0.0029048796  0.009886896  0.0294739  0.0076132324  -0.0011706472  0.013989798  0.027026331  0.0019242413  -0.0007193764  0.017622508  -0.028958622  0.01566445  -0.032410987  -0.00693693  0.0063991086  -0.020392127  0.004373422  -0.04168599  -0.014659659  -0.0026713943  0.032617096  0.030169526  0.022466121  0.03125161  0.001526511  -0.011877158  0.034781266  0.0014741782  -0.031973  0.006975576  -0.0073040654  0.000865506  0.020778585  -0.0044893594  -0.0105631985  0.013120266  -0.020662647  0.025094038  -0.0040320503  -0.04936363  -0.022375947  0.0039289948  0.0029628484  0.009758077  -0.011883599  0.014105735  -0.025841191  -0.012115474  0.018343896  0.042098213  -0.0137063945  0.0023702788  0.029448137  -0.0061607924  0.015574277  -0.010621168  -0.011735456  0.013384346  0.024372648  -0.000101797596  -0.011935126  0.04248467  0.046478074  0.016836708  -0.0156000415  0.0203406  0.0040159477  -0.035167724  -0.005584325  -0.050316896  0.10321018  -0.01782862  -0.052300718  -0.002755127  0.03434328  -0.005246174  -0.03766682  -0.00022805076  0.008940073  0.021306746  -0.0018823749  0.008675993  -0.014440666  0.020907404  -0.025274385  0.020301953  -0.01196089  -0.016733652  -0.03872314  -0.038465504  -0.02438553  -0.0054071983  0.02022466  0.016218375  0.017300459  -0.013075179  0.00038484824  -0.0013848096  -0.0137063945  0.019477509  0.036430154  0.008283094  -0.010054362  0.024733344  0.005719586  -0.008643788  -0.01664348  0.016295666  0.0027229222  -0.010331323  0.011245942  -0.024256712  0.003851703  0.0076261144  0.023071572  -0.0023396842  0.037306126  0.030710569  -0.021654557  0.009210594  0.0010933555  0.016875355  -0.00016565382  0.00075439917  -0.014530839  -0.00025623004  -0.02643376  0.007374916  0.05853558  -0.009461792  -0.002384771  0.0013558252  0.021718968  0.01090457  0.022607822  0.0068596383  0.022929871  0.03421446  -0.0124632865  0.0093072085  0.006585897  0.012005977  -3.994159e-06  0.0054555056  0.0035489772  0.018769002  -0.028443346  0.0107049  -0.0204823  0.018704591  0.014891534  -0.011812748  0.013796568  0.031019734  0.025905602  0.0067952285  -0.0072589787  0.007510177  0.014234555  -0.04168599  0.018408306  0.02616324  -0.011832071  -0.006898284  0.019657856  0.014170145  -0.015342402  0.04691606  -0.0077678156  -0.003606946  -0.02166744  0.015445458  0.0031995543  -0.0203406  -0.015625805  -0.048745297  0.035038903  -0.003462024  -0.030839387  0.0063121556  0.0042639254  -0.031148555  -0.041789044  -0.026279178  0.017699799  -0.06203947  0.0041705314  -0.03594064  0.0135131655  -0.0014564655  0.049647033  0.025158448  -0.00383238  -0.02550626  0.031431958  0.031612303  0.025931366  0.023896016  0.0017068584  0.00011573627  -0.030143762  -0.0065375897  -0.019374453  0.03918689  0.0329005  0.02417942  -0.021680322  0.0105696395  0.035193488  0.013474519  -0.005597207  -0.032977793  0.007973927  -0.043180294  0.023805844  -0.013203998  -0.0016263461  0.019851085  -0.025325913  -0.019593446  -0.016437368  -0.016089555  -0.008405472  0.0035683  0.015381048  -0.017931674  0.007722729  0.0015055779  0.01697841  -0.006659968  -0.01011233  -0.0047727623  -0.01929716  -0.009790282  -0.0058645075  0.022041015  -0.018305251  0.016733652  -0.02444994  -0.0041447673  0.0066470862  0.0012857796  0.00025180186  -0.020624002  -0.012746689  0.0099448655  -0.0011150938  0.021564383  0.02180914  -0.022878343  0.0020224662  0.007909517  -0.00053822395  -0.006453857  -0.026343588  0.0143504925  -0.014595249  -0.028520636  0.02682022  0.012798217  -0.028366053  0.02411501  0.03449786  0.015806152  -0.025068274  0.027670428  0.009139744  -0.012843304  0.011329675  0.0031866722  -0.013487401  -0.0038194982  -0.0046503837  0.063533776  -0.0071108365  -0.032256402  0.034137167  0.013976916  0.00025280827  0.019065285  0.024746226  0.04593703  -0.025467616  0.015445458  -0.0068596383  0.0051109134  0.016656362  0.017725563  0.002062722  0.019374453  -0.014904416  -0.0110978  -0.004908023  -0.008115629  -0.04485495  -0.009120421  0.010653373  -0.036610503  -0.008437677  -0.020108724  0.01440202  0.02550626  0.010595404  -0.004309012  -0.0112008555  0.045164116  -0.031225847  -0.00045690665  -0.031071262  0.004563431  -0.014079971  -0.037409183  0.035322305  -0.03344154  -0.009081774  0.051630855  0.022607822  -0.0060094297  -0.020005668  -0.00317057  -0.03357036  0.05047148  -0.014981708  -0.01902664  -0.0051849848  -0.01645025  -0.020765703  -0.03156078  0.007432885  -0.01103339  -0.020095842  0.0012737028  0.028185707  -0.02787654  -0.021435564  0.0041801925  -0.013667748  0.029963415  -0.0039161127  -0.010247591  -0.023264801  -0.036249805  -0.02707786  0.014157263  -0.012952801  0.036713555  -0.02014737  -0.019348688  0.026073067  0.018459834  0.008431236  0.030993972  0.0064699594  -0.010859484  -0.031535015  0.010382852  0.009880455  0.04220127  -0.007213892  -0.0007636581  0.019142577  0.012076828  0.007510177  -0.017145876  -0.025197094  0.0012890002  -0.02265935  -0.036842376  0.004534446  -0.03720307  0.013564693  0.0009862743  0.01341011  -0.00502074  0.003941877  -0.00198221  0.0018050832  -0.0099513065  0.014775597  0.01704282  0.0048919204  0.0037422064  -0.0008864392  0.029783068  -0.014015561  0.021293864  -0.0035844026  -0.017931674  0.017287577  0.022491883  0.019322924  0.031638067  0.0070915134  -0.054001134  -0.004415288  -0.032539804  -0.036455918  0.018318133  0.0012825591  -0.01909105  -0.011851394  -0.024784872  1.695788e-05  0.0052558356  0.0043186736  -0.032333694  0.0006791203  -0.013487401  0.031612303  -0.0003625061  -0.0044829184  -0.0061382493  -0.013693512  0.040397793  -0.0053427885  0.020817231  0.0570928  -0.008740403  0.0027245323  0.04194363  0.008663111  -0.014621013  -0.018653063  -0.016012264  -0.011806307  -0.010672695  0.047869325  -0.00482429  -3.945097e-05  -0.007877313  -0.016566187  -0.021976607  -0.029654248  -0.023135982  0.0014951113  0.044365436  0.005133457  0.00951332  -0.013770805  0.04848766  -0.036378626  -0.014840006  -0.00027333887  -0.060699746  -0.036146753  0.0034265986  0.028366053  -0.008547174  -0.039496057  0.04629773  -0.012521255  -0.022427475  0.0015651569  0.016398722  0.024372648  -0.011136445  -0.0057904366  -0.021396918  -0.006241305  "
     ]
    }
   ],
   "source": [
    "vect = openai_ef(['ciao'])\n",
    "\n",
    "for elem in vect[0]:\n",
    "    print(elem, \" \", end=\"\")"
   ]
  },
  {
   "cell_type": "code",
   "execution_count": 41,
   "id": "fec168cc-017d-44ee-b3e1-ac97c9e45df2",
   "metadata": {
    "ExecuteTime": {
     "end_time": "2025-07-29T09:45:22.572568Z",
     "start_time": "2025-07-29T09:45:22.569542Z"
    }
   },
   "outputs": [
    {
     "name": "stdout",
     "output_type": "stream",
     "text": [
      "Lunghezza embedding_vector (OpenAI text-embedding-3-small): 1536\n"
     ]
    }
   ],
   "source": [
    "print(f\"Lunghezza embedding_vector (OpenAI text-embedding-3-small): {len(vect[0])}\")"
   ]
  },
  {
   "cell_type": "code",
   "execution_count": 42,
   "id": "cd891d0c7d07032e",
   "metadata": {
    "ExecuteTime": {
     "end_time": "2025-07-29T09:45:24.167350Z",
     "start_time": "2025-07-29T09:45:22.600132Z"
    }
   },
   "outputs": [
    {
     "name": "stdout",
     "output_type": "stream",
     "text": [
      "1536\n"
     ]
    }
   ],
   "source": [
    "vect = openai_ef([\"il machine learning è veramente affascinante, come un po' tutta l'intelligenza artificiale, certo, ma il machine learning, anzi, il deep learning in particolare, ha quella marcia in più...\"])\n",
    "print(len(vect[0]))"
   ]
  }
 ],
 "metadata": {
  "kernelspec": {
   "display_name": ".venv",
   "language": "python",
   "name": "python3"
  },
  "language_info": {
   "codemirror_mode": {
    "name": "ipython",
    "version": 3
   },
   "file_extension": ".py",
   "mimetype": "text/x-python",
   "name": "python",
   "nbconvert_exporter": "python",
   "pygments_lexer": "ipython3",
   "version": "3.12.4"
  }
 },
 "nbformat": 4,
 "nbformat_minor": 5
}
