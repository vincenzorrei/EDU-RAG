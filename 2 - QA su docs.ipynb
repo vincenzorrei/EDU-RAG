{
 "cells": [
  {
   "cell_type": "markdown",
   "id": "7cd46183487d3c11",
   "metadata": {},
   "source": [
    "# QA - Basics"
   ]
  },
  {
   "cell_type": "code",
   "execution_count": 39,
   "id": "initial_id",
   "metadata": {
    "ExecuteTime": {
     "end_time": "2025-07-29T09:45:42.510659Z",
     "start_time": "2025-07-29T09:45:41.299520Z"
    }
   },
   "outputs": [],
   "source": [
    "import os\n",
    "from langchain_openai import ChatOpenAI\n",
    "from langchain.document_loaders import TextLoader\n",
    "from langchain import hub\n",
    "from langchain_chroma import Chroma\n",
    "from langchain_core.output_parsers import StrOutputParser\n",
    "from langchain_core.runnables import RunnablePassthrough\n",
    "from langchain_openai import OpenAIEmbeddings\n",
    "from langchain.text_splitter import RecursiveCharacterTextSplitter"
   ]
  },
  {
   "cell_type": "code",
   "execution_count": 40,
   "id": "8f9f810c3ff8d28f",
   "metadata": {
    "ExecuteTime": {
     "end_time": "2025-07-29T09:45:42.519930Z",
     "start_time": "2025-07-29T09:45:42.515197Z"
    },
    "collapsed": false,
    "jupyter": {
     "outputs_hidden": false
    }
   },
   "outputs": [],
   "source": [
    "loader = TextLoader('docs/monologo.txt', encoding=\"utf-8\")\n",
    "documents = loader.load()"
   ]
  },
  {
   "cell_type": "code",
   "execution_count": 14,
   "id": "e119986180401674",
   "metadata": {
    "ExecuteTime": {
     "end_time": "2025-07-29T09:45:42.666870Z",
     "start_time": "2025-07-29T09:45:42.660747Z"
    },
    "collapsed": false,
    "jupyter": {
     "outputs_hidden": false
    }
   },
   "outputs": [
    {
     "data": {
      "text/plain": [
       "[Document(metadata={'source': 'docs/monologo.txt'}, page_content='Auto o due ruote… è da settimane che mi gira in testa questa domanda. L’auto ha una logica: comoda, versatile, climatizzatore d’estate e aria calda d’inverno.\\nPuoi buttarci dentro la spesa, gli amici, perfino i bagagli. Ma ogni volta che mi immagino al volante vedo me stesso bloccato nel traffico,\\ncon lo sguardo fisso sul paraurti davanti, le mani che stringono il volante come se stessi aspettando che succeda qualcosa… e non succede mai.\\nÈ come vivere metà della vita in una scatola di metallo ferma, parcheggiata o imbottigliata. No, l’auto non è libertà, è routine.\\n\\nLa moto invece… due ruote sono vento, scia, movimento. È il cuore che accelera quando apri il gas, è la città che si apre come un labirinto da attraversare veloce,\\nfluido, senza catene. È libertà che senti sulla pelle, nelle braccia, persino nel rumore cupo del motore che vibra sotto di te. Non c’è paragone: voglio una moto.\\n\\nPerò… scooter o moto? Lo scooter è furbo, certo: pratico, ti porta al lavoro senza pensarci troppo, baule sotto la sella, consumi ridotti.\\nÈ come indossare scarpe da ginnastica comode: ci vai ovunque, ma non lasciano il segno. Io invece non cerco solo un mezzo di trasporto.\\nIo voglio sentirmi guidare. Voglio che ogni curva sia una piccola vittoria, che ogni semaforo sia un momento di attesa prima di ripartire\\ncon il cuore che spinge insieme al motore. Lo scooter non basta. Serve una moto, vera, con il serbatoio che abbracci con le ginocchia, con il rumore che ti entra dentro.\\n\\nE quale moto, allora? Sportiva? Belle, affilate, cattive, sembrano uscite da un videogioco. Ma in città sarebbero una condanna: la posizione piegata, i polsi che bruciano,\\nla paura di ogni dosso. Custom? Hanno stile, certo, quelle cromature, quel fascino da strada infinita… ma sono enormi, pesanti, lente nel traffico.\\nEnduro? Magari se vivessi in montagna, con sentieri e sterrati da divorare. Ma io vivo qui, tra le strade della città e qualche uscita fuori porta.\\nLa risposta è una: naked. Nuda, essenziale, agile come un felino tra le macchine, ma con tutta la potenza che serve quando la strada si apre davanti.\\nÈ la moto che ti parla con sincerità, senza carene a nascondere la sua anima.\\n\\nCilindrata… certo, anche qui bisogna ragionare. Non ha senso buttarsi subito su un mostro da mille cavalli,\\nrischierei solo di spaventarmi e tenerla chiusa in garage. Una 600cc è la scelta giusta: equilibrio perfetto tra potenza e controllo.\\nAbbastanza grinta da darmi l’adrenalina che cerco, ma senza diventare ingestibile.\\nÈ come dire: “ti do tutto quello che ti serve per divertirti, ma non ti lascio affondare.”\\n\\nE poi… il colore. Verde. Non so perché, ma lo sento. Verde non è solo un colore, è una dichiarazione.\\nVerde come l’energia, come la natura che esplode a primavera, come la scintilla che accende gli occhi quando vedi qualcosa che ti piace davvero.\\nVerde che spicca tra il grigio delle auto e l’asfalto della città, verde che urla:\\n“Eccomi, sono io, guarda!” Deve essere spettacolare, non un verde qualsiasi, ma un verde che ti fa voltare la testa quando passa.\\nQuella sarà la mia moto. Verde, naked, 600.\\n\\nE in quel momento, finalmente, non guiderò solo una macchina: guiderò un pezzo della mia libertà.')]"
      ]
     },
     "execution_count": 14,
     "metadata": {},
     "output_type": "execute_result"
    }
   ],
   "source": [
    "documents"
   ]
  },
  {
   "cell_type": "code",
   "execution_count": 41,
   "id": "3c17b7e40f0c169a",
   "metadata": {
    "ExecuteTime": {
     "end_time": "2025-07-29T09:45:43.015999Z",
     "start_time": "2025-07-29T09:45:42.697506Z"
    },
    "collapsed": false,
    "jupyter": {
     "outputs_hidden": false
    }
   },
   "outputs": [],
   "source": [
    "llm = ChatOpenAI(model=\"gpt-4o-mini\",\n",
    "                 openai_api_key=os.getenv(\"openai_api_key\"))"
   ]
  },
  {
   "cell_type": "markdown",
   "id": "712cf567",
   "metadata": {},
   "source": [
    "### Alcuni splitter standard\n",
    "\n",
    "- **CharacterTextSplitter** → divide il testo in chunk fissi basati su un set di caratteri.\n",
    "- **RecursiveCharacterTextSplitter** → suddivide ricorsivamente il testo cercando di mantenere i chunk entro una lunghezza massima, privilegiando separatori logici (paragrafi, frasi, parole).\n",
    "- **NLTKTextSplitter** → utilizza la libreria *NLTK* per individuare frasi da trasformare in chunk.\n",
    "- **SpacyTextSplitter** → sfrutta la libreria *Spacy* per riconoscere frasi e convertirle in chunk.\n",
    "- **MarkdownTextSplitter** → analizza la sintassi *Markdown* (intestazioni, liste, blocchi di codice, …) per creare sezioni atomiche.\n",
    "- **LatexTextSplitter** → interpreta la sintassi *LaTeX* (sezioni, sottosezioni, equazioni) per produrre chunk strutturati.\n"
   ]
  },
  {
   "cell_type": "code",
   "execution_count": 48,
   "id": "6cde338d574d243f",
   "metadata": {
    "ExecuteTime": {
     "end_time": "2025-07-29T09:45:43.028181Z",
     "start_time": "2025-07-29T09:45:43.023649Z"
    },
    "collapsed": false,
    "jupyter": {
     "outputs_hidden": false
    }
   },
   "outputs": [
    {
     "data": {
      "text/plain": [
       "[Document(metadata={'source': 'docs/monologo.txt'}, page_content='Auto o due ruote… è da settimane che mi gira in testa questa domanda. L’auto ha una logica: comoda, versatile,'),\n",
       " Document(metadata={'source': 'docs/monologo.txt'}, page_content='ha una logica: comoda, versatile, climatizzatore d’estate e aria calda d’inverno.'),\n",
       " Document(metadata={'source': 'docs/monologo.txt'}, page_content='Puoi buttarci dentro la spesa, gli amici, perfino i bagagli. Ma ogni volta che mi immagino al volante vedo me stesso'),\n",
       " Document(metadata={'source': 'docs/monologo.txt'}, page_content='mi immagino al volante vedo me stesso bloccato nel traffico,'),\n",
       " Document(metadata={'source': 'docs/monologo.txt'}, page_content='con lo sguardo fisso sul paraurti davanti, le mani che stringono il volante come se stessi aspettando che succeda'),\n",
       " Document(metadata={'source': 'docs/monologo.txt'}, page_content='come se stessi aspettando che succeda qualcosa… e non succede mai.'),\n",
       " Document(metadata={'source': 'docs/monologo.txt'}, page_content='È come vivere metà della vita in una scatola di metallo ferma, parcheggiata o imbottigliata. No, l’auto non è libertà,'),\n",
       " Document(metadata={'source': 'docs/monologo.txt'}, page_content='No, l’auto non è libertà, è routine.'),\n",
       " Document(metadata={'source': 'docs/monologo.txt'}, page_content='La moto invece… due ruote sono vento, scia, movimento. È il cuore che accelera quando apri il gas, è la città che si'),\n",
       " Document(metadata={'source': 'docs/monologo.txt'}, page_content='quando apri il gas, è la città che si apre come un labirinto da attraversare veloce,'),\n",
       " Document(metadata={'source': 'docs/monologo.txt'}, page_content='fluido, senza catene. È libertà che senti sulla pelle, nelle braccia, persino nel rumore cupo del motore che vibra'),\n",
       " Document(metadata={'source': 'docs/monologo.txt'}, page_content='nel rumore cupo del motore che vibra sotto di te. Non c’è paragone: voglio una moto.'),\n",
       " Document(metadata={'source': 'docs/monologo.txt'}, page_content='Però… scooter o moto? Lo scooter è furbo, certo: pratico, ti porta al lavoro senza pensarci troppo, baule sotto la'),\n",
       " Document(metadata={'source': 'docs/monologo.txt'}, page_content='senza pensarci troppo, baule sotto la sella, consumi ridotti.'),\n",
       " Document(metadata={'source': 'docs/monologo.txt'}, page_content='È come indossare scarpe da ginnastica comode: ci vai ovunque, ma non lasciano il segno. Io invece non cerco solo un'),\n",
       " Document(metadata={'source': 'docs/monologo.txt'}, page_content='il segno. Io invece non cerco solo un mezzo di trasporto.'),\n",
       " Document(metadata={'source': 'docs/monologo.txt'}, page_content='Io voglio sentirmi guidare. Voglio che ogni curva sia una piccola vittoria, che ogni semaforo sia un momento di attesa'),\n",
       " Document(metadata={'source': 'docs/monologo.txt'}, page_content='ogni semaforo sia un momento di attesa prima di ripartire'),\n",
       " Document(metadata={'source': 'docs/monologo.txt'}, page_content='con il cuore che spinge insieme al motore. Lo scooter non basta. Serve una moto, vera, con il serbatoio che abbracci'),\n",
       " Document(metadata={'source': 'docs/monologo.txt'}, page_content='vera, con il serbatoio che abbracci con le ginocchia, con il rumore che ti entra dentro.'),\n",
       " Document(metadata={'source': 'docs/monologo.txt'}, page_content='E quale moto, allora? Sportiva? Belle, affilate, cattive, sembrano uscite da un videogioco. Ma in città sarebbero una'),\n",
       " Document(metadata={'source': 'docs/monologo.txt'}, page_content='videogioco. Ma in città sarebbero una condanna: la posizione piegata, i polsi che bruciano,'),\n",
       " Document(metadata={'source': 'docs/monologo.txt'}, page_content='la paura di ogni dosso. Custom? Hanno stile, certo, quelle cromature, quel fascino da strada infinita… ma sono enormi,'),\n",
       " Document(metadata={'source': 'docs/monologo.txt'}, page_content='da strada infinita… ma sono enormi, pesanti, lente nel traffico.'),\n",
       " Document(metadata={'source': 'docs/monologo.txt'}, page_content='Enduro? Magari se vivessi in montagna, con sentieri e sterrati da divorare. Ma io vivo qui, tra le strade della città e'),\n",
       " Document(metadata={'source': 'docs/monologo.txt'}, page_content='vivo qui, tra le strade della città e qualche uscita fuori porta.'),\n",
       " Document(metadata={'source': 'docs/monologo.txt'}, page_content='La risposta è una: naked. Nuda, essenziale, agile come un felino tra le macchine, ma con tutta la potenza che serve'),\n",
       " Document(metadata={'source': 'docs/monologo.txt'}, page_content='ma con tutta la potenza che serve quando la strada si apre davanti.'),\n",
       " Document(metadata={'source': 'docs/monologo.txt'}, page_content='È la moto che ti parla con sincerità, senza carene a nascondere la sua anima.'),\n",
       " Document(metadata={'source': 'docs/monologo.txt'}, page_content='Cilindrata… certo, anche qui bisogna ragionare. Non ha senso buttarsi subito su un mostro da mille cavalli,'),\n",
       " Document(metadata={'source': 'docs/monologo.txt'}, page_content='rischierei solo di spaventarmi e tenerla chiusa in garage. Una 600cc è la scelta giusta: equilibrio perfetto tra'),\n",
       " Document(metadata={'source': 'docs/monologo.txt'}, page_content='scelta giusta: equilibrio perfetto tra potenza e controllo.'),\n",
       " Document(metadata={'source': 'docs/monologo.txt'}, page_content='Abbastanza grinta da darmi l’adrenalina che cerco, ma senza diventare ingestibile.'),\n",
       " Document(metadata={'source': 'docs/monologo.txt'}, page_content='È come dire: “ti do tutto quello che ti serve per divertirti, ma non ti lascio affondare.”'),\n",
       " Document(metadata={'source': 'docs/monologo.txt'}, page_content='E poi… il colore. Verde. Non so perché, ma lo sento. Verde non è solo un colore, è una dichiarazione.'),\n",
       " Document(metadata={'source': 'docs/monologo.txt'}, page_content='Verde come l’energia, come la natura che esplode a primavera, come la scintilla che accende gli occhi quando vedi'),\n",
       " Document(metadata={'source': 'docs/monologo.txt'}, page_content='che accende gli occhi quando vedi qualcosa che ti piace davvero.'),\n",
       " Document(metadata={'source': 'docs/monologo.txt'}, page_content='Verde che spicca tra il grigio delle auto e l’asfalto della città, verde che urla:'),\n",
       " Document(metadata={'source': 'docs/monologo.txt'}, page_content='“Eccomi, sono io, guarda!” Deve essere spettacolare, non un verde qualsiasi, ma un verde che ti fa voltare la testa'),\n",
       " Document(metadata={'source': 'docs/monologo.txt'}, page_content='ma un verde che ti fa voltare la testa quando passa.'),\n",
       " Document(metadata={'source': 'docs/monologo.txt'}, page_content='Quella sarà la mia moto. Verde, naked, 600.'),\n",
       " Document(metadata={'source': 'docs/monologo.txt'}, page_content='E in quel momento, finalmente, non guiderò solo una macchina: guiderò un pezzo della mia libertà.')]"
      ]
     },
     "execution_count": 48,
     "metadata": {},
     "output_type": "execute_result"
    }
   ],
   "source": [
    "text_splitter = RecursiveCharacterTextSplitter(chunk_size=120, chunk_overlap=40)\n",
    "splits = text_splitter.split_documents(documents)\n",
    "\n",
    "splits"
   ]
  },
  {
   "cell_type": "code",
   "execution_count": 49,
   "id": "b69fe986",
   "metadata": {},
   "outputs": [
    {
     "name": "stdout",
     "output_type": "stream",
     "text": [
      "110\n",
      "81\n",
      "116\n",
      "60\n",
      "113\n",
      "66\n",
      "118\n",
      "36\n",
      "116\n",
      "84\n",
      "114\n",
      "84\n",
      "114\n",
      "61\n",
      "115\n",
      "57\n",
      "118\n",
      "57\n",
      "116\n",
      "88\n",
      "117\n",
      "91\n",
      "118\n",
      "64\n",
      "119\n",
      "65\n",
      "115\n",
      "67\n",
      "77\n",
      "107\n",
      "112\n",
      "59\n",
      "82\n",
      "90\n",
      "101\n",
      "113\n",
      "64\n",
      "82\n",
      "115\n",
      "52\n",
      "43\n",
      "97\n"
     ]
    }
   ],
   "source": [
    "for i in range(len(splits)):\n",
    "    print(len(splits[i].page_content))"
   ]
  },
  {
   "cell_type": "code",
   "execution_count": 50,
   "id": "1710e6133b199029",
   "metadata": {
    "ExecuteTime": {
     "end_time": "2025-07-29T09:45:46.412840Z",
     "start_time": "2025-07-29T09:45:43.053612Z"
    },
    "collapsed": false,
    "jupyter": {
     "outputs_hidden": false
    }
   },
   "outputs": [],
   "source": [
    "vectorstore = Chroma.from_documents(documents=splits, embedding=OpenAIEmbeddings())"
   ]
  },
  {
   "cell_type": "code",
   "execution_count": 51,
   "id": "ccc2d233",
   "metadata": {},
   "outputs": [],
   "source": [
    "retriever = vectorstore.as_retriever()"
   ]
  },
  {
   "cell_type": "code",
   "execution_count": null,
   "id": "52e7b61caee06430",
   "metadata": {
    "ExecuteTime": {
     "end_time": "2025-07-29T09:45:47.043065Z",
     "start_time": "2025-07-29T09:45:46.420942Z"
    },
    "collapsed": false,
    "jupyter": {
     "outputs_hidden": false
    }
   },
   "outputs": [],
   "source": [
    "# Recupero di un prompt standard dall'Hub di LangChain/LangGraph\n",
    "# (https://smith.langchain.com/hub)\n",
    "\n",
    "prompt = hub.pull(\"rlm/rag-prompt\")"
   ]
  },
  {
   "cell_type": "markdown",
   "id": "e9643460",
   "metadata": {},
   "source": [
    "human\n",
    "\n",
    "You are an assistant for question-answering tasks.\n",
    "Use the following pieces of retrieved context to answer the question.\n",
    "If you don't know the answer, just say that you don't know.\n",
    "Use three sentences maximum and keep the answer concise.\n",
    "\n",
    "Question: {question} \n",
    "\n",
    "Context: {context} \n",
    "\n",
    "Answer:"
   ]
  },
  {
   "cell_type": "code",
   "execution_count": 30,
   "id": "2c62393647b1aaaf",
   "metadata": {
    "ExecuteTime": {
     "end_time": "2025-07-29T09:45:47.054828Z",
     "start_time": "2025-07-29T09:45:47.051722Z"
    },
    "collapsed": false,
    "jupyter": {
     "outputs_hidden": false
    }
   },
   "outputs": [
    {
     "data": {
      "text/plain": [
       "ChatPromptTemplate(input_variables=['context', 'question'], input_types={}, partial_variables={}, metadata={'lc_hub_owner': 'rlm', 'lc_hub_repo': 'rag-prompt', 'lc_hub_commit_hash': '50442af133e61576e74536c6556cefe1fac147cad032f4377b60c436e6cdcb6e'}, messages=[HumanMessagePromptTemplate(prompt=PromptTemplate(input_variables=['context', 'question'], input_types={}, partial_variables={}, template=\"You are an assistant for question-answering tasks. Use the following pieces of retrieved context to answer the question. If you don't know the answer, just say that you don't know. Use three sentences maximum and keep the answer concise.\\nQuestion: {question} \\nContext: {context} \\nAnswer:\"), additional_kwargs={})])"
      ]
     },
     "execution_count": 30,
     "metadata": {},
     "output_type": "execute_result"
    }
   ],
   "source": [
    "prompt"
   ]
  },
  {
   "cell_type": "code",
   "execution_count": 52,
   "id": "58562cda3cd1bf12",
   "metadata": {
    "ExecuteTime": {
     "end_time": "2025-07-29T09:45:47.077438Z",
     "start_time": "2025-07-29T09:45:47.073074Z"
    },
    "collapsed": false,
    "jupyter": {
     "outputs_hidden": false
    }
   },
   "outputs": [],
   "source": [
    "def format_docs(docs):\n",
    "    return \"\\n\\n\".join(doc.page_content for doc in docs)\n",
    "\n",
    "\n",
    "rag_chain = (\n",
    "    \n",
    "    {\"context\": retriever | format_docs,\n",
    "     \"question\": RunnablePassthrough()}\n",
    "\n",
    "    | prompt\n",
    "    | llm\n",
    "    | StrOutputParser()\n",
    ")"
   ]
  },
  {
   "cell_type": "code",
   "execution_count": 53,
   "id": "b38f45c0973a2537",
   "metadata": {
    "ExecuteTime": {
     "end_time": "2025-07-29T09:45:48.973498Z",
     "start_time": "2025-07-29T09:45:47.106446Z"
    },
    "collapsed": false,
    "jupyter": {
     "outputs_hidden": false
    }
   },
   "outputs": [
    {
     "data": {
      "text/plain": [
       "'La moto è di colore verde.'"
      ]
     },
     "execution_count": 53,
     "metadata": {},
     "output_type": "execute_result"
    }
   ],
   "source": [
    "rag_chain.invoke(\"di che colore ha preso la moto?\")"
   ]
  },
  {
   "cell_type": "code",
   "execution_count": 54,
   "id": "7711aa5f9f8e2b9",
   "metadata": {
    "ExecuteTime": {
     "end_time": "2025-07-29T09:45:51.566743Z",
     "start_time": "2025-07-29T09:45:48.992867Z"
    },
    "collapsed": false,
    "jupyter": {
     "outputs_hidden": false
    }
   },
   "outputs": [
    {
     "data": {
      "text/plain": [
       "\"Non è chiaro se ha scelto lo scooter, ma il testo enfatizza che lo scooter è pratico mentre la moto offre un'esperienza più profonda e coinvolgente. Il suggerimento sembra essere a favore della moto. Pertanto, la scelta finale non è specificata.\""
      ]
     },
     "execution_count": 54,
     "metadata": {},
     "output_type": "execute_result"
    }
   ],
   "source": [
    "rag_chain.invoke(\"Ha scelto lo scooter?\")"
   ]
  },
  {
   "cell_type": "code",
   "execution_count": 55,
   "id": "6d4eedd0292df498",
   "metadata": {
    "ExecuteTime": {
     "end_time": "2025-07-29T09:45:54.927806Z",
     "start_time": "2025-07-29T09:45:51.586779Z"
    },
    "collapsed": false,
    "jupyter": {
     "outputs_hidden": false
    }
   },
   "outputs": [
    {
     "data": {
      "text/plain": [
       "\"Non sembra che gli piaccia il traffico, anzi, sembra trovarlo pesante e frustrante. Si immagina bloccato nel traffico, il che suggerisce un'esperienza negativa.\""
      ]
     },
     "execution_count": 55,
     "metadata": {},
     "output_type": "execute_result"
    }
   ],
   "source": [
    "rag_chain.invoke(\"gli piace il traffico?\")"
   ]
  },
  {
   "cell_type": "code",
   "execution_count": 38,
   "id": "c5d8f2d6cbc7cc80",
   "metadata": {
    "ExecuteTime": {
     "end_time": "2025-07-29T09:45:55.275633Z",
     "start_time": "2025-07-29T09:45:54.946051Z"
    },
    "collapsed": false,
    "jupyter": {
     "outputs_hidden": false
    }
   },
   "outputs": [
    {
     "data": {
      "text/plain": [
       "'È la moto che ti parla con sincerità, senza carene a nascondere la sua anima.\\n\\nfluido, senza catene. È libertà che senti sulla pelle, nelle braccia, persino nel rumore cupo del motore che vibra sotto di te. Non c’è paragone: voglio una moto.\\n\\nPerò… scooter o moto? Lo scooter è furbo, certo: pratico, ti porta al lavoro senza pensarci troppo, baule sotto la sella, consumi ridotti.\\n\\n“Eccomi, sono io, guarda!” Deve essere spettacolare, non un verde qualsiasi, ma un verde che ti fa voltare la testa quando passa.\\nQuella sarà la mia moto. Verde, naked, 600.'"
      ]
     },
     "execution_count": 38,
     "metadata": {},
     "output_type": "execute_result"
    }
   ],
   "source": [
    "result = (retriever | format_docs).invoke(\"Che moto vuole?\")\n",
    "result"
   ]
  }
 ],
 "metadata": {
  "kernelspec": {
   "display_name": ".venv",
   "language": "python",
   "name": "python3"
  },
  "language_info": {
   "codemirror_mode": {
    "name": "ipython",
    "version": 3
   },
   "file_extension": ".py",
   "mimetype": "text/x-python",
   "name": "python",
   "nbconvert_exporter": "python",
   "pygments_lexer": "ipython3",
   "version": "3.12.4"
  }
 },
 "nbformat": 4,
 "nbformat_minor": 5
}
