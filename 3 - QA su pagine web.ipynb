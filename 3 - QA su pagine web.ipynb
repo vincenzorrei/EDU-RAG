{
 "cells": [
  {
   "cell_type": "markdown",
   "id": "ed0a7ceaf6d0f2c0",
   "metadata": {},
   "source": [
    "# Question Answering su pagine web"
   ]
  },
  {
   "cell_type": "code",
   "execution_count": null,
   "id": "initial_id",
   "metadata": {
    "ExecuteTime": {
     "end_time": "2025-07-29T09:46:46.663474Z",
     "start_time": "2025-07-29T09:46:37.324582Z"
    }
   },
   "outputs": [],
   "source": [
    "import bs4  # pip install bs4\n",
    "from langchain_community.document_loaders import WebBaseLoader\n",
    "import os\n",
    "\n",
    "bs4_strainer = bs4.SoupStrainer()\n",
    "# Inizializza il loader per scaricare e processare le pagine web dei corsi Develhope.\n",
    "# Il loader utilizza BeautifulSoup (bs4) per il parsing HTML e scarica i contenuti dagli URL specificati.\n",
    "loader = WebBaseLoader(\n",
    "    web_paths=(\n",
    "        \"https://www.develhope.co/corsi/ai-powered-developer\",\n",
    "        \"https://www.develhope.co/corsi/data-science\",\n",
    "        \"https://www.develhope.co/corsi/back-end-java-developer\",\n",
    "        \"https://www.develhope.co/corsi/full-stack-web-developer\",\n",
    "        \"https://www.develhope.co/corsi/front-end-web-developer\",\n",
    "        \"https://www.develhope.co/corsi/digital-marketing-ai-specialist\",\n",
    "        \"https://www.develhope.co/corsi/ai-data-analyst\",\n",
    "        \"https://www.develhope.co/corsi/ux-ui\",\n",
    "    ),\n",
    "    # Il parametro bs_kwargs permette di passare argomenti aggiuntivi al costruttore di BeautifulSoup.\n",
    "    bs_kwargs={\"parse_only\": bs4_strainer},\n",
    ")\n",
    "docs = loader.load()"
   ]
  },
  {
   "cell_type": "code",
   "execution_count": null,
   "id": "2736eefe19c7380a",
   "metadata": {
    "ExecuteTime": {
     "end_time": "2025-07-29T09:46:46.833562Z",
     "start_time": "2025-07-29T09:46:46.773767Z"
    },
    "collapsed": false,
    "jupyter": {
     "outputs_hidden": false
    }
   },
   "outputs": [],
   "source": [
    "docs"
   ]
  },
  {
   "cell_type": "code",
   "execution_count": null,
   "id": "15ab27c0f08fe404",
   "metadata": {
    "ExecuteTime": {
     "end_time": "2025-07-29T09:46:46.854353Z",
     "start_time": "2025-07-29T09:46:46.851332Z"
    },
    "collapsed": false,
    "jupyter": {
     "outputs_hidden": false
    }
   },
   "outputs": [],
   "source": [
    "len(docs[0].page_content)"
   ]
  },
  {
   "cell_type": "code",
   "execution_count": null,
   "id": "73fec83e8bd65ebd",
   "metadata": {
    "ExecuteTime": {
     "end_time": "2025-07-29T09:46:46.925050Z",
     "start_time": "2025-07-29T09:46:46.906338Z"
    },
    "collapsed": false,
    "jupyter": {
     "outputs_hidden": false
    }
   },
   "outputs": [],
   "source": [
    "from langchain_text_splitters import RecursiveCharacterTextSplitter\n",
    "\n",
    "text_splitter = RecursiveCharacterTextSplitter(\n",
    "    chunk_size=600, chunk_overlap=400, add_start_index=True\n",
    ")\n",
    "all_splits = text_splitter.split_documents(docs)"
   ]
  },
  {
   "cell_type": "code",
   "execution_count": null,
   "id": "36318fdb1a8d8a0c",
   "metadata": {
    "ExecuteTime": {
     "end_time": "2025-07-29T09:46:46.941792Z",
     "start_time": "2025-07-29T09:46:46.938695Z"
    },
    "collapsed": false,
    "jupyter": {
     "outputs_hidden": false
    }
   },
   "outputs": [],
   "source": [
    "len(all_splits)"
   ]
  },
  {
   "cell_type": "code",
   "execution_count": null,
   "id": "dceec45c5ff07214",
   "metadata": {
    "ExecuteTime": {
     "end_time": "2025-07-29T09:46:46.972214Z",
     "start_time": "2025-07-29T09:46:46.967595Z"
    },
    "collapsed": false,
    "jupyter": {
     "outputs_hidden": false
    }
   },
   "outputs": [],
   "source": [
    "len(all_splits[42].page_content)"
   ]
  },
  {
   "cell_type": "code",
   "execution_count": null,
   "id": "56ec6a77ae4bf1c9",
   "metadata": {
    "ExecuteTime": {
     "end_time": "2025-07-29T09:46:46.995526Z",
     "start_time": "2025-07-29T09:46:46.991985Z"
    },
    "collapsed": false,
    "jupyter": {
     "outputs_hidden": false
    }
   },
   "outputs": [],
   "source": [
    "all_splits[0].metadata"
   ]
  },
  {
   "cell_type": "code",
   "execution_count": null,
   "id": "d6b914fcdb3f7b72",
   "metadata": {
    "ExecuteTime": {
     "end_time": "2025-07-29T09:46:47.033055Z",
     "start_time": "2025-07-29T09:46:47.028495Z"
    },
    "collapsed": false,
    "jupyter": {
     "outputs_hidden": false
    }
   },
   "outputs": [],
   "source": [
    "all_splits[0].page_content"
   ]
  },
  {
   "cell_type": "code",
   "execution_count": null,
   "id": "1ad67a34c88616c2",
   "metadata": {
    "ExecuteTime": {
     "end_time": "2025-07-29T09:46:53.985357Z",
     "start_time": "2025-07-29T09:46:47.054300Z"
    },
    "collapsed": false,
    "jupyter": {
     "outputs_hidden": false
    }
   },
   "outputs": [],
   "source": [
    "from langchain_chroma import Chroma\n",
    "from langchain_openai import OpenAIEmbeddings\n",
    "\n",
    "vectorstore = Chroma.from_documents(documents=all_splits,\n",
    "                                    embedding=OpenAIEmbeddings())"
   ]
  },
  {
   "cell_type": "code",
   "execution_count": null,
   "id": "9ebf11e0ef0bef0f",
   "metadata": {
    "ExecuteTime": {
     "end_time": "2025-07-29T09:46:53.998194Z",
     "start_time": "2025-07-29T09:46:53.994612Z"
    },
    "collapsed": false,
    "jupyter": {
     "outputs_hidden": false
    }
   },
   "outputs": [],
   "source": [
    "retriever = vectorstore.as_retriever(search_type=\"similarity\",\n",
    "                                     search_kwargs={\"k\": 8}) # default 4"
   ]
  },
  {
   "cell_type": "code",
   "execution_count": null,
   "id": "a6ffcb1d486be144",
   "metadata": {
    "ExecuteTime": {
     "end_time": "2025-07-29T09:46:54.253380Z",
     "start_time": "2025-07-29T09:46:54.013423Z"
    },
    "collapsed": false,
    "jupyter": {
     "outputs_hidden": false
    }
   },
   "outputs": [],
   "source": [
    "retrieved_docs = retriever.invoke(\"Ho già competenze di programmazione ma voglio fare qualcosa di avanzato e moderno\")"
   ]
  },
  {
   "cell_type": "code",
   "execution_count": null,
   "id": "6080d940239928da",
   "metadata": {
    "ExecuteTime": {
     "end_time": "2025-07-29T09:46:54.266979Z",
     "start_time": "2025-07-29T09:46:54.263906Z"
    },
    "collapsed": false,
    "jupyter": {
     "outputs_hidden": false
    }
   },
   "outputs": [],
   "source": [
    "for doc in retrieved_docs:\n",
    "    print(doc.metadata['title'])\n",
    "    print(doc.page_content, end=\"\\n\\n---\\n\\n\")"
   ]
  },
  {
   "cell_type": "code",
   "execution_count": null,
   "id": "212146d2de7cbcf1",
   "metadata": {
    "ExecuteTime": {
     "end_time": "2025-07-29T09:46:54.524248Z",
     "start_time": "2025-07-29T09:46:54.297683Z"
    },
    "collapsed": false,
    "jupyter": {
     "outputs_hidden": false
    }
   },
   "outputs": [],
   "source": [
    "retrieved_docs = retriever.invoke(\"vorrei diventare specializzarmi nel campo delle AI e delle Agentic Applications\")\n",
    "for doc in retrieved_docs:\n",
    "    print(doc.metadata['title'])\n",
    "    print(doc.page_content, end=\"\\n\\n---\\n\\n\")"
   ]
  },
  {
   "cell_type": "code",
   "execution_count": null,
   "id": "2f2efd59e2367fbf",
   "metadata": {
    "ExecuteTime": {
     "end_time": "2025-07-29T09:46:54.860866Z",
     "start_time": "2025-07-29T09:46:54.540125Z"
    },
    "collapsed": false,
    "jupyter": {
     "outputs_hidden": false
    }
   },
   "outputs": [],
   "source": [
    "from langchain_openai import ChatOpenAI\n",
    "\n",
    "llm = ChatOpenAI(model=\"gpt-4o-mini\",\n",
    "                 api_key=os.getenv(\"openai_api_key\"))"
   ]
  },
  {
   "cell_type": "code",
   "execution_count": null,
   "id": "e749a4b1347dd295",
   "metadata": {
    "ExecuteTime": {
     "end_time": "2025-07-29T09:46:55.518299Z",
     "start_time": "2025-07-29T09:46:54.868441Z"
    },
    "collapsed": false,
    "jupyter": {
     "outputs_hidden": false
    }
   },
   "outputs": [],
   "source": [
    "from langchain import hub\n",
    "\n",
    "prompt = hub.pull(\"rlm/rag-prompt\")\n",
    "\n",
    "prompt"
   ]
  },
  {
   "cell_type": "code",
   "execution_count": null,
   "id": "f4de1eaf3a8d8ea8",
   "metadata": {
    "ExecuteTime": {
     "end_time": "2025-07-29T09:46:55.533098Z",
     "start_time": "2025-07-29T09:46:55.527978Z"
    },
    "collapsed": false,
    "jupyter": {
     "outputs_hidden": false
    }
   },
   "outputs": [],
   "source": [
    "example_messages = prompt.invoke(\n",
    "\n",
    "    {\"context\": \"contesto\",\n",
    "     \"question\": \"domanda\"}\n",
    "     \n",
    ").to_messages()\n",
    "\n",
    "example_messages"
   ]
  },
  {
   "cell_type": "code",
   "execution_count": null,
   "id": "a7942a59fe5afb2d",
   "metadata": {
    "ExecuteTime": {
     "end_time": "2025-07-29T09:46:55.549452Z",
     "start_time": "2025-07-29T09:46:55.545869Z"
    },
    "collapsed": false,
    "jupyter": {
     "outputs_hidden": false
    }
   },
   "outputs": [],
   "source": [
    "print(example_messages[0].content)"
   ]
  },
  {
   "cell_type": "code",
   "execution_count": null,
   "id": "2b25eab823aea23",
   "metadata": {
    "ExecuteTime": {
     "end_time": "2025-07-29T09:46:55.570272Z",
     "start_time": "2025-07-29T09:46:55.566732Z"
    },
    "collapsed": false,
    "jupyter": {
     "outputs_hidden": false
    }
   },
   "outputs": [],
   "source": [
    "from langchain_core.output_parsers import StrOutputParser\n",
    "from langchain_core.runnables import RunnablePassthrough\n",
    "\n",
    "\n",
    "def format_docs(docs):\n",
    "    return \"\\n\\n\".join(doc.page_content for doc in docs)\n",
    "\n",
    "# Creo una chain per elaborare il contesto\n",
    "rag_chain = (\n",
    "    \n",
    "    {\"context\": retriever | format_docs,\n",
    "     \"question\": RunnablePassthrough()}\n",
    "\n",
    "    | prompt\n",
    "    | llm\n",
    "    | StrOutputParser()\n",
    ")"
   ]
  },
  {
   "cell_type": "code",
   "execution_count": null,
   "id": "f72a9b2c853964bc",
   "metadata": {
    "ExecuteTime": {
     "end_time": "2025-07-29T09:46:58.572440Z",
     "start_time": "2025-07-29T09:46:55.598331Z"
    },
    "collapsed": false,
    "jupyter": {
     "outputs_hidden": false
    }
   },
   "outputs": [],
   "source": [
    "rag_chain.invoke(\"mi piace l'intelligenza artificiale ma non saprei da dove iniziare a studiare, consigliami un corso\")"
   ]
  },
  {
   "cell_type": "code",
   "execution_count": null,
   "id": "4b4a80be78a92a28",
   "metadata": {
    "ExecuteTime": {
     "end_time": "2025-07-29T09:46:58.585478Z",
     "start_time": "2025-07-29T09:46:58.580941Z"
    },
    "collapsed": false,
    "jupyter": {
     "outputs_hidden": false
    }
   },
   "outputs": [],
   "source": [
    "# Importa la classe RunnableParallel per eseguire più operazioni in parallelo\n",
    "from langchain_core.runnables import RunnableParallel\n",
    "\n",
    "# Definisce una catena (chain) che prende dei documenti già selezionati (\"context\"),\n",
    "# li formatta come testo, li passa al prompt, poi al modello LLM, e infine estrae solo la risposta testuale\n",
    "rag_chain_from_docs = (\n",
    "    RunnablePassthrough.assign(context=(lambda x: format_docs(x[\"context\"])))\n",
    "    | prompt\n",
    "    | llm\n",
    "    | StrOutputParser()\n",
    ")\n",
    "\n",
    "# Definisce una catena parallela che:\n",
    "# - recupera i documenti rilevanti tramite il retriever\n",
    "# - passa la domanda così com'è\n",
    "# Poi, aggiunge un campo \"answer\" che esegue la catena rag_chain_from_docs sui risultati ottenuti\n",
    "rag_chain_with_source = RunnableParallel(\n",
    "    {\n",
    "        \"context\": retriever,  # recupera i documenti simili alla domanda\n",
    "        \"question\": RunnablePassthrough()  # passa la domanda senza modificarla\n",
    "    }\n",
    ").assign(answer=rag_chain_from_docs)  # genera la risposta usando i documenti recuperati"
   ]
  },
  {
   "cell_type": "code",
   "execution_count": null,
   "id": "f6fa95310b747ddd",
   "metadata": {
    "ExecuteTime": {
     "end_time": "2025-07-29T09:47:01.791236Z",
     "start_time": "2025-07-29T09:46:58.596253Z"
    },
    "collapsed": false,
    "jupyter": {
     "outputs_hidden": false
    }
   },
   "outputs": [],
   "source": [
    "risposta = rag_chain_with_source.invoke(\"come potrei approfondire tematiche di Deep Learning?\")\n",
    "risposta"
   ]
  },
  {
   "cell_type": "code",
   "execution_count": 24,
   "id": "3eb7105862640150",
   "metadata": {
    "ExecuteTime": {
     "end_time": "2025-07-29T09:47:01.806368Z",
     "start_time": "2025-07-29T09:47:01.803344Z"
    }
   },
   "outputs": [],
   "source": [
    "rag_chain_with_source = RunnableParallel(\n",
    "    \n",
    "    {\"context\": retriever,\n",
    "     \"question\": RunnablePassthrough()}\n",
    "\n",
    ") | rag_chain_from_docs"
   ]
  },
  {
   "cell_type": "code",
   "execution_count": 25,
   "id": "93947adc38cc2deb",
   "metadata": {
    "ExecuteTime": {
     "end_time": "2025-07-29T09:47:04.156077Z",
     "start_time": "2025-07-29T09:47:01.817029Z"
    },
    "collapsed": false,
    "jupyter": {
     "outputs_hidden": false
    }
   },
   "outputs": [
    {
     "data": {
      "text/plain": [
       "\"Potresti considerare di iscriverti al corso di UX/UI Designer, che è un percorso 100% remoto e parte da zero. Questo corso ti insegnerà a sviluppare strategie di design incentrate sull'utente e sui dati, ed è più visivo rispetto alla matematica. In alternativa, il corso di sviluppo web offre una combinazione di aspetti pratici e creativi che potrebbero risultarti interessanti.\""
      ]
     },
     "execution_count": 25,
     "metadata": {},
     "output_type": "execute_result"
    }
   ],
   "source": [
    "risposta = rag_chain_with_source.invoke(\"Non mi piace la matematica e vorrei qualcosa di più visuale. Che corso potrei fare?\")\n",
    "\n",
    "risposta"
   ]
  }
 ],
 "metadata": {
  "kernelspec": {
   "display_name": ".venv",
   "language": "python",
   "name": "python3"
  },
  "language_info": {
   "codemirror_mode": {
    "name": "ipython",
    "version": 3
   },
   "file_extension": ".py",
   "mimetype": "text/x-python",
   "name": "python",
   "nbconvert_exporter": "python",
   "pygments_lexer": "ipython3",
   "version": "3.12.4"
  }
 },
 "nbformat": 4,
 "nbformat_minor": 5
}
