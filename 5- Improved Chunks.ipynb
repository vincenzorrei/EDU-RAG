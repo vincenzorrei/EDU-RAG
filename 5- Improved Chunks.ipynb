{
 "cells": [
  {
   "cell_type": "code",
   "execution_count": 1,
   "id": "d7d6fae646595530",
   "metadata": {
    "ExecuteTime": {
     "end_time": "2025-03-26T12:25:09.607560Z",
     "start_time": "2025-03-26T12:25:06.757147Z"
    }
   },
   "outputs": [
    {
     "name": "stderr",
     "output_type": "stream",
     "text": [
      "libmagic is unavailable but assists in filetype detection. Please consider installing libmagic for better results.\n",
      "libmagic is unavailable but assists in filetype detection. Please consider installing libmagic for better results.\n"
     ]
    },
    {
     "name": "stdout",
     "output_type": "stream",
     "text": [
      "page_content='Auto o due ruote… è da settimane che mi gira in testa questa domanda. L’auto ha una logica: comoda, versatile, climatizzatore d’estate e aria calda d’inverno. Puoi buttarci dentro la spesa, gli amici, perfino i bagagli. Ma ogni volta che mi immagino al volante vedo me stesso bloccato nel traffico, con lo sguardo fisso sul paraurti davanti, le mani che stringono il volante come se stessi aspettando che succeda qualcosa… e non succede mai. È come vivere metà della vita in una scatola di metallo ferma, parcheggiata o imbottigliata. No, l’auto non è libertà, è routine.\n",
      "\n",
      "La moto invece… due ruote sono vento, scia, movimento. È il cuore che accelera quando apri il gas, è la città che si apre come un labirinto da attraversare veloce, fluido, senza catene. È libertà che senti sulla pelle, nelle braccia, persino nel rumore cupo del motore che vibra sotto di te. Non c’è paragone: voglio una moto.\n",
      "\n",
      "Però… scooter o moto? Lo scooter è furbo, certo: pratico, ti porta al lavoro senza pensarci troppo, baule sotto la sella, consumi ridotti. È come indossare scarpe da ginnastica comode: ci vai ovunque, ma non lasciano il segno. Io invece non cerco solo un mezzo di trasporto. Io voglio sentirmi guidare. Voglio che ogni curva sia una piccola vittoria, che ogni semaforo sia un momento di attesa prima di ripartire con il cuore che spinge insieme al motore. Lo scooter non basta. Serve una moto, vera, con il serbatoio che abbracci con le ginocchia, con il rumore che ti entra dentro.\n",
      "\n",
      "E quale moto, allora? Sportiva? Belle, affilate, cattive, sembrano uscite da un videogioco. Ma in città sarebbero una condanna: la posizione piegata, i polsi che bruciano, la paura di ogni dosso. Custom? Hanno stile, certo, quelle cromature, quel fascino da strada infinita… ma sono enormi, pesanti, lente nel traffico. Enduro? Magari se vivessi in montagna, con sentieri e sterrati da divorare. Ma io vivo qui, tra le strade della città e qualche uscita fuori porta. La risposta è una: naked. Nuda, essenziale, agile come un felino tra le macchine, ma con tutta la potenza che serve quando la strada si apre davanti. È la moto che ti parla con sincerità, senza carene a nascondere la sua anima.\n",
      "\n",
      "Cilindrata… certo, anche qui bisogna ragionare. Non ha senso buttarsi subito su un mostro da mille cavalli, rischierei solo di spaventarmi e tenerla chiusa in garage. Una 600cc è la scelta giusta: equilibrio perfetto tra potenza e controllo. Abbastanza grinta da darmi l’adrenalina che cerco, ma senza diventare ingestibile. È come dire: “ti do tutto quello che ti serve per divertirti, ma non ti lascio affondare.”\n",
      "\n",
      "E poi… il colore. Verde. Non so perché, ma lo sento. Verde non è solo un colore, è una dichiarazione. Verde come l’energia, come la natura che esplode a primavera, come la scintilla che accende gli occhi quando vedi qualcosa che ti piace davvero. Verde che spicca tra il grigio delle auto e l’asfalto della città, verde che urla: “Eccomi, sono io, guarda!” Deve essere spettacolare, non un verde qualsiasi, ma un verde che ti fa voltare la testa quando passa. Quella sarà la mia moto. Verde, naked, 600.\n",
      "\n",
      "E in quel momento, finalmente, non guiderò solo una macchina: guiderò un pezzo della mia libertà.' metadata={'source': 'docs\\\\monologo.txt'} \n",
      "\n",
      "\n",
      "page_content='Lui: Allora, iniziamo a organizzare seriamente il viaggio in Perù per quest’estate?\n",
      "\n",
      "Lei: Sì! Io direi luglio, massimo agosto. Ho visto che i voli di solito hanno almeno uno scalo, tipo a Madrid o a Lima se poi dobbiamo prendere coincidenze interne.\n",
      "\n",
      "Lui: Esatto. Da Roma o Milano si trovano biglietti intorno ai 900-1100 euro a testa, se prenotiamo presto. Magari con Iberia o Latam. Conviene muoversi subito, perché i prezzi salgono.\n",
      "\n",
      "Lei: D’accordo. Facciamo una lista delle tappe: sicuramente Machu Picchu, Cusco e la Valle Sacra. Poi il Lago Titicaca e se riusciamo un salto a Arequipa e al Canyon del Colca.\n",
      "\n",
      "Lui: Io vorrei anche il deserto di Huacachina e magari un tour a Paracas per vedere le isole Ballestas. Però bisogna calcolare i giorni, non possiamo fare tutto di corsa.\n",
      "\n",
      "Lei: Giusto. Intanto, per la sicurezza ho controllato che sul sito Viaggiare Sicuri del Ministero danno consigli su vaccini, altitudine e zone da evitare. Vale la pena leggerlo bene.\n",
      "\n",
      "Lui: Sì, meglio. Per esempio so che in alcune zone dicono di fare attenzione ai trasporti notturni. E ci ricordano pure di avere sempre un’assicurazione sanitaria.\n",
      "\n",
      "Lei: A proposito, che tipo di abbigliamento portiamo? Io pensavo a strati: magliette leggere per il giorno, felpe e giacche a vento per la sera. A Cusco di notte fa freddo anche d’estate.\n",
      "\n",
      "Lui: Concordo. Scarpe comode da trekking, cappello e crema solare. Piuttosto: valigia o zaino?\n",
      "\n",
      "Lei: Io sono tentata dallo zaino, così siamo più agili negli spostamenti in bus e treni. Però per un mese non è troppo scomodo?\n",
      "\n",
      "Lui: Dipende. Se scegliamo zaini da 60 litri possiamo cavarcela. Al massimo un piccolo trolley per i voli interni, ma due valigie grandi sarebbero un incubo.\n",
      "\n",
      "Lei: Ok, quindi puntiamo su zaini e ci organizziamo con i sacchetti per dividere i vestiti. Così viaggiamo leggeri.\n",
      "\n",
      "Lui: Perfetto. Allora prossimi passi: blocchiamo i voli, leggiamo bene Viaggiare Sicuri, e poi stendiamo un itinerario giorno per giorno.\n",
      "\n",
      "Lei: Affare fatto. Non vedo l’ora!' metadata={'source': 'docs\\\\viaggio.txt'} \n",
      "\n",
      "\n"
     ]
    }
   ],
   "source": [
    "# lettura di tutti i documenti da una cartella\n",
    "from langchain_community.document_loaders import DirectoryLoader  # pip install unstructured\n",
    "\n",
    "loader = DirectoryLoader('docs/', glob=\"**/*.txt\")\n",
    "documents = loader.load()\n",
    "\n",
    "for doc in documents:\n",
    "    print(doc, \"\\n\\n\")"
   ]
  },
  {
   "cell_type": "code",
   "execution_count": 2,
   "id": "26b72d87",
   "metadata": {},
   "outputs": [],
   "source": [
    "from langchain_chroma import Chroma\n",
    "from langchain_openai import OpenAIEmbeddings\n",
    "from langchain.text_splitter import RecursiveCharacterTextSplitter\n",
    "from langchain.retrievers import ParentDocumentRetriever\n",
    "from langchain.storage._lc_store import create_kv_docstore  #  <---\n",
    "from langchain.storage import LocalFileStore\n"
   ]
  },
  {
   "cell_type": "code",
   "execution_count": 3,
   "id": "35be1f0af3eb4f0f",
   "metadata": {
    "ExecuteTime": {
     "end_time": "2025-03-26T12:25:10.643932Z",
     "start_time": "2025-03-26T12:25:09.616638Z"
    }
   },
   "outputs": [],
   "source": [
    "# Text-Splitter per i chunk di documento più grandi, da usare come dati recuperati\n",
    "parent_splitter = RecursiveCharacterTextSplitter(chunk_size=350, chunk_overlap=150)\n",
    "\n",
    "# Secondo Text-Splitter, per la creazione di chunk più piccoli su cui indicizzare le ricerche\n",
    "child_splitter = RecursiveCharacterTextSplitter(chunk_size=85, chunk_overlap=15)\n",
    "\n",
    "vectorstore = Chroma(collection_name=\"split_parents\",\n",
    "                     embedding_function=OpenAIEmbeddings())\n",
    "\n",
    "# dizionario su filesystem utilizzato per recuperare i documenti più grandi, una volta\n",
    "# identificati tramite ricerca sui chunk più piccoli\n",
    "fs = LocalFileStore(\"./storage_locale\")\n",
    "store = create_kv_docstore(fs)"
   ]
  },
  {
   "cell_type": "code",
   "execution_count": 4,
   "id": "a697336eb41a86ff",
   "metadata": {
    "ExecuteTime": {
     "end_time": "2025-03-26T12:25:13.899292Z",
     "start_time": "2025-03-26T12:25:10.828614Z"
    }
   },
   "outputs": [],
   "source": [
    "# ParentDocumentRetriever gestisce automaticamente\n",
    "# il \"doppio livello\" di granularità dei chunk\n",
    "\n",
    "retriever = ParentDocumentRetriever(\n",
    "    vectorstore=vectorstore,\n",
    "    docstore=store,\n",
    "    child_splitter=child_splitter,\n",
    "    parent_splitter=parent_splitter,\n",
    ")\n",
    "\n",
    "retriever.add_documents(documents)"
   ]
  },
  {
   "cell_type": "code",
   "execution_count": 5,
   "id": "8a0bc889f19799b0",
   "metadata": {
    "ExecuteTime": {
     "end_time": "2025-03-26T12:25:13.926397Z",
     "start_time": "2025-03-26T12:25:13.902352Z"
    }
   },
   "outputs": [
    {
     "data": {
      "text/plain": [
       "23"
      ]
     },
     "execution_count": 5,
     "metadata": {},
     "output_type": "execute_result"
    }
   ],
   "source": [
    "# dai 2 documenti di partenza, vengono creati \n",
    "# 23 chunk da 350 caratteri massimo\n",
    "# memorizzati in `store`, mentre i chunk più\n",
    "# piccoli, da massimo 85 caratteri, sono\n",
    "# memorizzati nel vector-store\n",
    "len(list(store.yield_keys()))"
   ]
  },
  {
   "cell_type": "code",
   "execution_count": 6,
   "id": "4ae71de238dd6126",
   "metadata": {
    "ExecuteTime": {
     "end_time": "2025-03-26T12:25:13.935585Z",
     "start_time": "2025-03-26T12:25:13.932410Z"
    }
   },
   "outputs": [
    {
     "data": {
      "text/plain": [
       "<langchain.storage.file_system.LocalFileStore at 0x1d5b2919ca0>"
      ]
     },
     "execution_count": 6,
     "metadata": {},
     "output_type": "execute_result"
    }
   ],
   "source": [
    "store.store"
   ]
  },
  {
   "cell_type": "code",
   "execution_count": 7,
   "id": "b1b4cd4bbdd594fd",
   "metadata": {
    "ExecuteTime": {
     "end_time": "2025-03-26T15:03:19.301224Z",
     "start_time": "2025-03-26T15:03:19.297672Z"
    }
   },
   "outputs": [
    {
     "data": {
      "text/plain": [
       "WindowsPath('c:/Users/vinor/Desktop/Develhope/projects/EDU-RAG/storage_locale')"
      ]
     },
     "execution_count": 7,
     "metadata": {},
     "output_type": "execute_result"
    }
   ],
   "source": [
    "store.store.root_path"
   ]
  },
  {
   "cell_type": "code",
   "execution_count": 8,
   "id": "12a0a208d123be61",
   "metadata": {
    "ExecuteTime": {
     "end_time": "2025-03-26T12:25:14.942487Z",
     "start_time": "2025-03-26T12:25:13.946404Z"
    }
   },
   "outputs": [
    {
     "data": {
      "text/plain": [
       "Document(id='873d644a-d742-4c2d-80a2-215222da88c5', metadata={'source': 'docs\\\\viaggio.txt', 'doc_id': '4952d6d0-574b-44da-9110-635654f1c65e'}, page_content='muoversi subito, perché i prezzi salgono.')"
      ]
     },
     "execution_count": 8,
     "metadata": {},
     "output_type": "execute_result"
    }
   ],
   "source": [
    "# accedendo al VectorStore (Chroma), tramite similarity search, la ricerca viene effettuata\n",
    "# sui chunk estratti più piccoli\n",
    "sub_docs = vectorstore.similarity_search(\"in quale dialogo si parla di prezzi?\")\n",
    "\n",
    "sub_docs[0]"
   ]
  },
  {
   "cell_type": "code",
   "execution_count": 9,
   "id": "3dd821aec72a257c",
   "metadata": {
    "ExecuteTime": {
     "end_time": "2025-03-26T12:25:14.961078Z",
     "start_time": "2025-03-26T12:25:14.959046Z"
    }
   },
   "outputs": [
    {
     "name": "stdout",
     "output_type": "stream",
     "text": [
      "page_content='muoversi subito, perché i prezzi salgono.' metadata={'source': 'docs\\\\viaggio.txt', 'doc_id': '4952d6d0-574b-44da-9110-635654f1c65e'}\n",
      "page_content='Lui: Esatto. Da Roma o Milano si trovano biglietti intorno ai 900-1100 euro a testa,' metadata={'source': 'docs\\\\viaggio.txt', 'doc_id': '4952d6d0-574b-44da-9110-635654f1c65e'}\n",
      "page_content='evitare. Vale la pena leggerlo bene.' metadata={'doc_id': '7bc4ac12-d6cb-4299-a8e0-a6ecf1984359', 'source': 'docs\\\\viaggio.txt'}\n",
      "page_content='Piuttosto: valigia o zaino?' metadata={'doc_id': '9fa016e6-fcdf-4a23-ad05-67a5b4e4bb31', 'source': 'docs\\\\viaggio.txt'}\n"
     ]
    }
   ],
   "source": [
    "for s in sub_docs:\n",
    "    print(s)"
   ]
  },
  {
   "cell_type": "code",
   "execution_count": 10,
   "id": "2aca975f6e6b049c",
   "metadata": {
    "ExecuteTime": {
     "end_time": "2025-03-26T12:25:15.741283Z",
     "start_time": "2025-03-26T12:25:14.983465Z"
    }
   },
   "outputs": [
    {
     "data": {
      "text/plain": [
       "Document(metadata={'source': 'docs\\\\viaggio.txt'}, page_content='Lui: Esatto. Da Roma o Milano si trovano biglietti intorno ai 900-1100 euro a testa, se prenotiamo presto. Magari con Iberia o Latam. Conviene muoversi subito, perché i prezzi salgono.')"
      ]
     },
     "execution_count": 10,
     "metadata": {},
     "output_type": "execute_result"
    }
   ],
   "source": [
    "# il retriever ritorna invece il chunk di documento più grande\n",
    "retrieved_docs = retriever.invoke(\"in quale dialogo si parla di prezzi?\")\n",
    "\n",
    "retrieved_docs[0]"
   ]
  },
  {
   "cell_type": "code",
   "execution_count": 11,
   "id": "e0142e56-3caf-496a-91c2-e567038882c0",
   "metadata": {
    "ExecuteTime": {
     "end_time": "2025-03-26T12:25:15.751433Z",
     "start_time": "2025-03-26T12:25:15.748406Z"
    }
   },
   "outputs": [
    {
     "name": "stdout",
     "output_type": "stream",
     "text": [
      "page_content='Lui: Esatto. Da Roma o Milano si trovano biglietti intorno ai 900-1100 euro a testa, se prenotiamo presto. Magari con Iberia o Latam. Conviene muoversi subito, perché i prezzi salgono.' metadata={'source': 'docs\\\\viaggio.txt'}\n",
      "page_content='Lei: Giusto. Intanto, per la sicurezza ho controllato che sul sito Viaggiare Sicuri del Ministero danno consigli su vaccini, altitudine e zone da evitare. Vale la pena leggerlo bene.\n",
      "\n",
      "Lui: Sì, meglio. Per esempio so che in alcune zone dicono di fare attenzione ai trasporti notturni. E ci ricordano pure di avere sempre un’assicurazione sanitaria.' metadata={'source': 'docs\\\\viaggio.txt'}\n",
      "page_content='Lei: A proposito, che tipo di abbigliamento portiamo? Io pensavo a strati: magliette leggere per il giorno, felpe e giacche a vento per la sera. A Cusco di notte fa freddo anche d’estate.\n",
      "\n",
      "Lui: Concordo. Scarpe comode da trekking, cappello e crema solare. Piuttosto: valigia o zaino?' metadata={'source': 'docs\\\\viaggio.txt'}\n"
     ]
    }
   ],
   "source": [
    "for r in retrieved_docs:\n",
    "    print(r)"
   ]
  }
 ],
 "metadata": {
  "kernelspec": {
   "display_name": ".venv",
   "language": "python",
   "name": "python3"
  },
  "language_info": {
   "codemirror_mode": {
    "name": "ipython",
    "version": 3
   },
   "file_extension": ".py",
   "mimetype": "text/x-python",
   "name": "python",
   "nbconvert_exporter": "python",
   "pygments_lexer": "ipython3",
   "version": "3.12.4"
  }
 },
 "nbformat": 4,
 "nbformat_minor": 5
}
